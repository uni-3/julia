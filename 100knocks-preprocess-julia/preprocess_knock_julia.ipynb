{
 "cells": [
  {
   "cell_type": "markdown",
   "metadata": {},
   "source": [
    "https://qiita.com/Ken-Kuroki/items/115d0679fdce1d15b9d1\n",
    "\n",
    "https://github.com/bicycle1885/Julia-Tutorial"
   ]
  },
  {
   "cell_type": "code",
   "execution_count": 36,
   "metadata": {},
   "outputs": [
    {
     "name": "stderr",
     "output_type": "stream",
     "text": [
      "\u001b[32m\u001b[1m   Updating\u001b[22m\u001b[39m registry at `/opt/julia/registries/General`\n"
     ]
    },
    {
     "name": "stdout",
     "output_type": "stream",
     "text": [
      "\u001b[?25l    "
     ]
    },
    {
     "name": "stderr",
     "output_type": "stream",
     "text": [
      "\u001b[32m\u001b[1m   Updating\u001b[22m\u001b[39m git-repo `https://github.com/JuliaRegistries/General.git`\n"
     ]
    },
    {
     "name": "stdout",
     "output_type": "stream",
     "text": [
      "\u001b[2K\u001b[?25h[1mFetching:\u001b[22m\u001b[39m [========================================>]  100.0 %==========>                             ]  25.1 %===============>                         ]  36.9 %\u001b[36m\u001b[1mFetching:\u001b[22m\u001b[39m [================>                        ]  39.0 %>              ]  63.9 %\u001b[36m\u001b[1mFetching:\u001b[22m\u001b[39m [=======================================> ]  95.2 %"
     ]
    },
    {
     "name": "stderr",
     "output_type": "stream",
     "text": [
      "\u001b[32m\u001b[1m  Resolving\u001b[22m\u001b[39m package versions...\n",
      "\u001b[32m\u001b[1m  Installed\u001b[22m\u001b[39m TableShowUtils ─── v0.2.5\n",
      "\u001b[32m\u001b[1m  Installed\u001b[22m\u001b[39m TableTraitsUtils ─ v1.0.1\n",
      "\u001b[32m\u001b[1m  Installed\u001b[22m\u001b[39m IterableTables ─── v1.0.0\n",
      "\u001b[32m\u001b[1m  Installed\u001b[22m\u001b[39m QueryOperators ─── v0.9.2\n",
      "\u001b[32m\u001b[1m  Installed\u001b[22m\u001b[39m Query ──────────── v1.0.0\n",
      "\u001b[32m\u001b[1m  Installed\u001b[22m\u001b[39m DataValues ─────── v0.4.13\n",
      "\u001b[32m\u001b[1m   Updating\u001b[22m\u001b[39m `/opt/julia/environments/v1.4/Project.toml`\n",
      " \u001b[90m [1a8c2f83]\u001b[39m\u001b[92m + Query v1.0.0\u001b[39m\n",
      "\u001b[32m\u001b[1m   Updating\u001b[22m\u001b[39m `/opt/julia/environments/v1.4/Manifest.toml`\n",
      " \u001b[90m [e7dc6d0d]\u001b[39m\u001b[92m + DataValues v0.4.13\u001b[39m\n",
      " \u001b[90m [1c8ee90f]\u001b[39m\u001b[92m + IterableTables v1.0.0\u001b[39m\n",
      " \u001b[90m [1a8c2f83]\u001b[39m\u001b[92m + Query v1.0.0\u001b[39m\n",
      " \u001b[90m [2aef5ad7]\u001b[39m\u001b[92m + QueryOperators v0.9.2\u001b[39m\n",
      " \u001b[90m [5e66a065]\u001b[39m\u001b[92m + TableShowUtils v0.2.5\u001b[39m\n",
      " \u001b[90m [382cd787]\u001b[39m\u001b[92m + TableTraitsUtils v1.0.1\u001b[39m\n"
     ]
    }
   ],
   "source": [
    "Pkg.add(\"Query\")"
   ]
  },
  {
   "cell_type": "code",
   "execution_count": 1,
   "metadata": {},
   "outputs": [
    {
     "data": {
      "text/plain": [
       "PyObject <class 'sklearn.preprocessing._data.MinMaxScaler'>"
      ]
     },
     "execution_count": 1,
     "metadata": {},
     "output_type": "execute_result"
    }
   ],
   "source": [
    "ENV[\"COLUMNS\"]=240  # 描画する表の列数を増やす\n",
    "ENV[\"LINES\"]=10  # 行の数は制限（問題の指示とは異なるので好みに合わせて修正）\n",
    "\n",
    "using Pkg\n",
    "\n",
    "#Pkg.add(\"DataFrames\")\n",
    "#Pkg.add(\"DataFramesMeta\")\n",
    "#Pkg.add(\"LibPQ\")\n",
    "#Pkg.add(\"Query\")\n",
    "#Pkg.add(\"StatsBase\")\n",
    "#Pkg.add(\"ScikitLearn\")\n",
    "#Pkg.add(\"MLDataPattern\")\n",
    "#Pkg.add(\"CSV\")\n",
    "\n",
    "using DataFrames\n",
    "using DataFramesMeta\n",
    "using LibPQ\n",
    "using Query\n",
    "using StatsBase\n",
    "using Statistics\n",
    "using Dates\n",
    "using Random\n",
    "using ScikitLearn\n",
    "using MLDataPattern\n",
    "using CSV\n",
    "\n",
    "@sk_import preprocessing: (LabelBinarizer, StandardScaler, MinMaxScaler)"
   ]
  },
  {
   "cell_type": "markdown",
   "metadata": {},
   "source": [
    "# データサイエンス100本ノック（構造化データ加工編）"
   ]
  },
  {
   "cell_type": "markdown",
   "metadata": {},
   "source": [
    "## はじめに\n",
    "- 初めに以下のセルを実行してください\n",
    "- 必要なライブラリのインポートとデータベース（PostgreSQL）からのデータ読み込みを行います\n",
    "- pandas等、利用が想定されるライブラリは以下セルでインポートしています\n",
    "- その他利用したいライブラリがあれば適宜インストールしてください（\"!pip install ライブラリ名\"でインストールも可能）\n",
    "- 処理は複数回に分けても構いません\n",
    "- 名前、住所等はダミーデータであり、実在するものではありません"
   ]
  },
  {
   "cell_type": "code",
   "execution_count": 5,
   "metadata": {},
   "outputs": [
    {
     "data": {
      "text/plain": [
       "10-element Array{Int64,1}:\n",
       " 42\n",
       " 42\n",
       " 42\n",
       "  ⋮\n",
       " 42\n",
       " 42"
      ]
     },
     "execution_count": 5,
     "metadata": {},
     "output_type": "execute_result"
    }
   ],
   "source": [
    "\n",
    "fill(42, 10)"
   ]
  },
  {
   "cell_type": "code",
   "execution_count": 13,
   "metadata": {},
   "outputs": [
    {
     "data": {
      "text/plain": [
       "4-element Array{Int64,1}:\n",
       " 1\n",
       " 2\n",
       " 3\n",
       " 4"
      ]
     },
     "execution_count": 13,
     "metadata": {},
     "output_type": "execute_result"
    }
   ],
   "source": [
    "# list\n",
    "x = [1, 2, 3]\n",
    "push!(x, 4)"
   ]
  },
  {
   "cell_type": "code",
   "execution_count": 14,
   "metadata": {},
   "outputs": [
    {
     "data": {
      "text/plain": [
       "true"
      ]
     },
     "execution_count": 14,
     "metadata": {},
     "output_type": "execute_result"
    }
   ],
   "source": [
    "issorted([1,2,3,4])"
   ]
  },
  {
   "cell_type": "code",
   "execution_count": 15,
   "metadata": {},
   "outputs": [
    {
     "data": {
      "text/plain": [
       "2-element Array{Int64,1}:\n",
       " 3\n",
       " 4"
      ]
     },
     "execution_count": 15,
     "metadata": {},
     "output_type": "execute_result"
    }
   ],
   "source": [
    "filter(x->x>2, x)"
   ]
  },
  {
   "cell_type": "code",
   "execution_count": 16,
   "metadata": {},
   "outputs": [
    {
     "data": {
      "text/plain": [
       "true"
      ]
     },
     "execution_count": 16,
     "metadata": {},
     "output_type": "execute_result"
    }
   ],
   "source": [
    "# dict\n",
    "d = Dict(\"one\" => 1, \"two\" => 2)\n",
    "haskey(d, \"two\")"
   ]
  },
  {
   "cell_type": "code",
   "execution_count": 17,
   "metadata": {},
   "outputs": [
    {
     "data": {
      "text/plain": [
       "1"
      ]
     },
     "execution_count": 17,
     "metadata": {},
     "output_type": "execute_result"
    }
   ],
   "source": [
    "d[\"one\"]"
   ]
  },
  {
   "cell_type": "code",
   "execution_count": 18,
   "metadata": {},
   "outputs": [
    {
     "data": {
      "text/plain": [
       "0"
      ]
     },
     "execution_count": 18,
     "metadata": {},
     "output_type": "execute_result"
    }
   ],
   "source": [
    "get(d, \"three\", 0)"
   ]
  },
  {
   "cell_type": "code",
   "execution_count": 76,
   "metadata": {},
   "outputs": [
    {
     "data": {
      "text/plain": [
       "1"
      ]
     },
     "execution_count": 76,
     "metadata": {},
     "output_type": "execute_result"
    }
   ],
   "source": [
    "a = [1,2]\n",
    "a[1]"
   ]
  },
  {
   "cell_type": "code",
   "execution_count": 69,
   "metadata": {},
   "outputs": [
    {
     "data": {
      "text/plain": [
       "true"
      ]
     },
     "execution_count": 69,
     "metadata": {},
     "output_type": "execute_result"
    }
   ],
   "source": [
    "# set\n",
    "s = Set([1,2,3,1])\n",
    "2 in s"
   ]
  },
  {
   "cell_type": "code",
   "execution_count": 21,
   "metadata": {},
   "outputs": [
    {
     "data": {
      "text/plain": [
       "4-element Array{Float64,1}:\n",
       " 0.0\n",
       " 0.8414709848078965\n",
       " 0.9092974268256817\n",
       " 0.1411200080598672"
      ]
     },
     "execution_count": 21,
     "metadata": {},
     "output_type": "execute_result"
    }
   ],
   "source": [
    "# 関数の適用\n",
    "map(sin, [0.0, 1.0, 2.0, 3.0])"
   ]
  },
  {
   "cell_type": "markdown",
   "metadata": {},
   "source": [
    "# 演習問題"
   ]
  },
  {
   "cell_type": "markdown",
   "metadata": {},
   "source": [
    "### load data"
   ]
  },
  {
   "cell_type": "code",
   "execution_count": 23,
   "metadata": {},
   "outputs": [
    {
     "data": {
      "text/plain": [
       "\"/home/jovyan/julia/100knocks-preprocess-master/docker/work\""
      ]
     },
     "execution_count": 23,
     "metadata": {},
     "output_type": "execute_result"
    }
   ],
   "source": [
    "pwd()"
   ]
  },
  {
   "cell_type": "code",
   "execution_count": 2,
   "metadata": {},
   "outputs": [
    {
     "name": "stderr",
     "output_type": "stream",
     "text": [
      "┌ Warning: `CSV.read(input; kw...)` is deprecated in favor of `using DataFrames; CSV.read(input, DataFrame; kw...)\n",
      "│   caller = read(::String) at CSV.jl:40\n",
      "└ @ CSV /opt/julia/packages/CSV/MKemC/src/CSV.jl:40\n"
     ]
    },
    {
     "data": {
      "text/html": [
       "<table class=\"data-frame\"><thead><tr><th></th><th>store_cd</th><th>store_name</th><th>prefecture_cd</th><th>prefecture</th><th>address</th><th>address_kana</th><th>tel_no</th><th>longitude</th><th>latitude</th><th>floor_area</th></tr><tr><th></th><th>String</th><th>String</th><th>Int64</th><th>String</th><th>String</th><th>String</th><th>String</th><th>Float64</th><th>Float64</th><th>Float64</th></tr></thead><tbody><p>53 rows × 10 columns</p><tr><th>1</th><td>S12014</td><td>千草台店</td><td>12</td><td>千葉県</td><td>千葉県千葉市稲毛区千草台一丁目</td><td>チバケンチバシイナゲクチグサダイイッチョウメ</td><td>043-123-4003</td><td>140.118</td><td>35.6356</td><td>1698.0</td></tr><tr><th>2</th><td>S13002</td><td>国分寺店</td><td>13</td><td>東京都</td><td>東京都国分寺市本多二丁目</td><td>トウキョウトコクブンジシホンダニチョウメ</td><td>042-123-4008</td><td>139.48</td><td>35.7057</td><td>1735.0</td></tr><tr><th>3</th><td>S14010</td><td>菊名店</td><td>14</td><td>神奈川県</td><td>神奈川県横浜市港北区菊名一丁目</td><td>カナガワケンヨコハマシコウホククキクナイッチョウメ</td><td>045-123-4032</td><td>139.633</td><td>35.5005</td><td>1732.0</td></tr><tr><th>4</th><td>S14033</td><td>阿久和店</td><td>14</td><td>神奈川県</td><td>神奈川県横浜市瀬谷区阿久和西一丁目</td><td>カナガワケンヨコハマシセヤクアクワニシイッチョウメ</td><td>045-123-4043</td><td>139.496</td><td>35.4592</td><td>1495.0</td></tr><tr><th>5</th><td>S14036</td><td>相模原中央店</td><td>14</td><td>神奈川県</td><td>神奈川県相模原市中央二丁目</td><td>カナガワケンサガミハラシチュウオウニチョウメ</td><td>042-123-4045</td><td>139.372</td><td>35.5733</td><td>1679.0</td></tr><tr><th>6</th><td>S13051</td><td>板橋大原店</td><td>13</td><td>東京都</td><td>東京都板橋区大原町</td><td>トウキョウトイタバシクオオハラチョウ</td><td>03-0123-4029</td><td>139.698</td><td>35.7679</td><td>1045.0</td></tr><tr><th>7</th><td>S13015</td><td>南砂店</td><td>13</td><td>東京都</td><td>東京都江東区南砂二丁目</td><td>トウキョウトコウトウクミナミスナニチョウメ</td><td>03-0123-4014</td><td>139.823</td><td>35.6707</td><td>1337.0</td></tr><tr><th>8</th><td>S14040</td><td>長津田店</td><td>14</td><td>神奈川県</td><td>神奈川県横浜市緑区長津田みなみ台五丁目</td><td>カナガワケンヨコハマシミドリクナガツタミナミダイゴチョウメ</td><td>045-123-4046</td><td>139.499</td><td>35.524</td><td>1548.0</td></tr><tr><th>9</th><td>S13044</td><td>南六郷店</td><td>13</td><td>東京都</td><td>東京都大田区南六郷二丁目</td><td>トウキョウトオオタクミナミロクゴウニチョウメ</td><td>03-0123-4028</td><td>139.721</td><td>35.546</td><td>1379.0</td></tr><tr><th>10</th><td>S14050</td><td>阿久和西店</td><td>14</td><td>神奈川県</td><td>神奈川県横浜市瀬谷区阿久和西一丁目</td><td>カナガワケンヨコハマシセヤクアクワニシイッチョウメ</td><td>045-123-4053</td><td>139.496</td><td>35.4592</td><td>1830.0</td></tr><tr><th>&vellip;</th><td>&vellip;</td><td>&vellip;</td><td>&vellip;</td><td>&vellip;</td><td>&vellip;</td><td>&vellip;</td><td>&vellip;</td><td>&vellip;</td><td>&vellip;</td><td>&vellip;</td></tr></tbody></table>"
      ],
      "text/latex": [
       "\\begin{tabular}{r|cccccccccc}\n",
       "\t& store\\_cd & store\\_name & prefecture\\_cd & prefecture & address & address\\_kana & tel\\_no & longitude & latitude & floor\\_area\\\\\n",
       "\t\\hline\n",
       "\t& String & String & Int64 & String & String & String & String & Float64 & Float64 & Float64\\\\\n",
       "\t\\hline\n",
       "\t1 & S12014 & 千草台店 & 12 & 千葉県 & 千葉県千葉市稲毛区千草台一丁目 & チバケンチバシイナゲクチグサダイイッチョウメ & 043-123-4003 & 140.118 & 35.6356 & 1698.0 \\\\\n",
       "\t2 & S13002 & 国分寺店 & 13 & 東京都 & 東京都国分寺市本多二丁目 & トウキョウトコクブンジシホンダニチョウメ & 042-123-4008 & 139.48 & 35.7057 & 1735.0 \\\\\n",
       "\t3 & S14010 & 菊名店 & 14 & 神奈川県 & 神奈川県横浜市港北区菊名一丁目 & カナガワケンヨコハマシコウホククキクナイッチョウメ & 045-123-4032 & 139.633 & 35.5005 & 1732.0 \\\\\n",
       "\t4 & S14033 & 阿久和店 & 14 & 神奈川県 & 神奈川県横浜市瀬谷区阿久和西一丁目 & カナガワケンヨコハマシセヤクアクワニシイッチョウメ & 045-123-4043 & 139.496 & 35.4592 & 1495.0 \\\\\n",
       "\t5 & S14036 & 相模原中央店 & 14 & 神奈川県 & 神奈川県相模原市中央二丁目 & カナガワケンサガミハラシチュウオウニチョウメ & 042-123-4045 & 139.372 & 35.5733 & 1679.0 \\\\\n",
       "\t6 & S13051 & 板橋大原店 & 13 & 東京都 & 東京都板橋区大原町 & トウキョウトイタバシクオオハラチョウ & 03-0123-4029 & 139.698 & 35.7679 & 1045.0 \\\\\n",
       "\t7 & S13015 & 南砂店 & 13 & 東京都 & 東京都江東区南砂二丁目 & トウキョウトコウトウクミナミスナニチョウメ & 03-0123-4014 & 139.823 & 35.6707 & 1337.0 \\\\\n",
       "\t8 & S14040 & 長津田店 & 14 & 神奈川県 & 神奈川県横浜市緑区長津田みなみ台五丁目 & カナガワケンヨコハマシミドリクナガツタミナミダイゴチョウメ & 045-123-4046 & 139.499 & 35.524 & 1548.0 \\\\\n",
       "\t9 & S13044 & 南六郷店 & 13 & 東京都 & 東京都大田区南六郷二丁目 & トウキョウトオオタクミナミロクゴウニチョウメ & 03-0123-4028 & 139.721 & 35.546 & 1379.0 \\\\\n",
       "\t10 & S14050 & 阿久和西店 & 14 & 神奈川県 & 神奈川県横浜市瀬谷区阿久和西一丁目 & カナガワケンヨコハマシセヤクアクワニシイッチョウメ & 045-123-4053 & 139.496 & 35.4592 & 1830.0 \\\\\n",
       "\t$\\dots$ & $\\dots$ & $\\dots$ & $\\dots$ & $\\dots$ & $\\dots$ & $\\dots$ & $\\dots$ & $\\dots$ & $\\dots$ & $\\dots$ \\\\\n",
       "\\end{tabular}\n"
      ],
      "text/plain": [
       "53×10 DataFrame\n"
      ]
     },
     "execution_count": 2,
     "metadata": {},
     "output_type": "execute_result"
    }
   ],
   "source": [
    "df_category = CSV.read(\"./data/category.csv\")\n",
    "df_customer = CSV.read(\"./data/customer.csv\")\n",
    "df_geocode = CSV.read(\"./data/geocode.csv\")\n",
    "df_product = CSV.read(\"./data/product.csv\")\n",
    "df_receipt = CSV.read(\"./data/receipt.csv\")\n",
    "df_store = CSV.read(\"./data/store.csv\")\n"
   ]
  },
  {
   "cell_type": "markdown",
   "metadata": {},
   "source": [
    "---\n",
    "> P-001: レシート明細のデータフレーム（df_receipt）から全項目の先頭10件を表示し、どのようなデータを保有しているか目視で確認せよ。"
   ]
  },
  {
   "cell_type": "code",
   "execution_count": 37,
   "metadata": {},
   "outputs": [
    {
     "data": {
      "text/html": [
       "<table class=\"data-frame\"><thead><tr><th></th><th>sales_ymd</th><th>sales_epoch</th><th>store_cd</th><th>receipt_no</th><th>receipt_sub_no</th><th>customer_id</th><th>product_cd</th><th>quantity</th><th>amount</th></tr><tr><th></th><th>Int64</th><th>Int64</th><th>String</th><th>Int64</th><th>Int64</th><th>String</th><th>String</th><th>Int64</th><th>Int64</th></tr></thead><tbody><p>10 rows × 9 columns</p><tr><th>1</th><td>20181103</td><td>1257206400</td><td>S14006</td><td>112</td><td>1</td><td>CS006214000001</td><td>P070305012</td><td>1</td><td>158</td></tr><tr><th>2</th><td>20181118</td><td>1258502400</td><td>S13008</td><td>1132</td><td>2</td><td>CS008415000097</td><td>P070701017</td><td>1</td><td>81</td></tr><tr><th>3</th><td>20170712</td><td>1215820800</td><td>S14028</td><td>1102</td><td>1</td><td>CS028414000014</td><td>P060101005</td><td>1</td><td>170</td></tr><tr><th>4</th><td>20190205</td><td>1265328000</td><td>S14042</td><td>1132</td><td>1</td><td>ZZ000000000000</td><td>P050301001</td><td>1</td><td>25</td></tr><tr><th>5</th><td>20180821</td><td>1250812800</td><td>S14025</td><td>1102</td><td>2</td><td>CS025415000050</td><td>P060102007</td><td>1</td><td>90</td></tr><tr><th>6</th><td>20190605</td><td>1275696000</td><td>S13003</td><td>1112</td><td>1</td><td>CS003515000195</td><td>P050102002</td><td>1</td><td>138</td></tr><tr><th>7</th><td>20181205</td><td>1259971200</td><td>S14024</td><td>1102</td><td>2</td><td>CS024514000042</td><td>P080101005</td><td>1</td><td>30</td></tr><tr><th>8</th><td>20190922</td><td>1285113600</td><td>S14040</td><td>1102</td><td>1</td><td>CS040415000178</td><td>P070501004</td><td>1</td><td>128</td></tr><tr><th>9</th><td>20170504</td><td>1209859200</td><td>S13020</td><td>1112</td><td>2</td><td>ZZ000000000000</td><td>P071302010</td><td>1</td><td>770</td></tr><tr><th>10</th><td>20191010</td><td>1286668800</td><td>S14027</td><td>1102</td><td>1</td><td>CS027514000015</td><td>P071101003</td><td>1</td><td>680</td></tr></tbody></table>"
      ],
      "text/latex": [
       "\\begin{tabular}{r|ccccccccc}\n",
       "\t& sales\\_ymd & sales\\_epoch & store\\_cd & receipt\\_no & receipt\\_sub\\_no & customer\\_id & product\\_cd & quantity & amount\\\\\n",
       "\t\\hline\n",
       "\t& Int64 & Int64 & String & Int64 & Int64 & String & String & Int64 & Int64\\\\\n",
       "\t\\hline\n",
       "\t1 & 20181103 & 1257206400 & S14006 & 112 & 1 & CS006214000001 & P070305012 & 1 & 158 \\\\\n",
       "\t2 & 20181118 & 1258502400 & S13008 & 1132 & 2 & CS008415000097 & P070701017 & 1 & 81 \\\\\n",
       "\t3 & 20170712 & 1215820800 & S14028 & 1102 & 1 & CS028414000014 & P060101005 & 1 & 170 \\\\\n",
       "\t4 & 20190205 & 1265328000 & S14042 & 1132 & 1 & ZZ000000000000 & P050301001 & 1 & 25 \\\\\n",
       "\t5 & 20180821 & 1250812800 & S14025 & 1102 & 2 & CS025415000050 & P060102007 & 1 & 90 \\\\\n",
       "\t6 & 20190605 & 1275696000 & S13003 & 1112 & 1 & CS003515000195 & P050102002 & 1 & 138 \\\\\n",
       "\t7 & 20181205 & 1259971200 & S14024 & 1102 & 2 & CS024514000042 & P080101005 & 1 & 30 \\\\\n",
       "\t8 & 20190922 & 1285113600 & S14040 & 1102 & 1 & CS040415000178 & P070501004 & 1 & 128 \\\\\n",
       "\t9 & 20170504 & 1209859200 & S13020 & 1112 & 2 & ZZ000000000000 & P071302010 & 1 & 770 \\\\\n",
       "\t10 & 20191010 & 1286668800 & S14027 & 1102 & 1 & CS027514000015 & P071101003 & 1 & 680 \\\\\n",
       "\\end{tabular}\n"
      ],
      "text/plain": [
       "10×9 DataFrame\n"
      ]
     },
     "execution_count": 37,
     "metadata": {},
     "output_type": "execute_result"
    }
   ],
   "source": [
    "first(df_receipt, 10)"
   ]
  },
  {
   "cell_type": "markdown",
   "metadata": {},
   "source": [
    "---\n",
    "> P-002: レシート明細のデータフレーム（df_receipt）から売上日（sales_ymd）、顧客ID（customer_id）、商品コード（product_cd）、売上金額（amount）の順に列を指定し、10件表示させよ。"
   ]
  },
  {
   "cell_type": "code",
   "execution_count": 44,
   "metadata": {},
   "outputs": [
    {
     "data": {
      "text/html": [
       "<table class=\"data-frame\"><thead><tr><th></th><th>sales_ymd</th><th>customer_id</th><th>product_cd</th><th>amount</th></tr><tr><th></th><th>Int64</th><th>String</th><th>String</th><th>Int64</th></tr></thead><tbody><p>10 rows × 4 columns</p><tr><th>1</th><td>20181103</td><td>CS006214000001</td><td>P070305012</td><td>158</td></tr><tr><th>2</th><td>20181118</td><td>CS008415000097</td><td>P070701017</td><td>81</td></tr><tr><th>3</th><td>20170712</td><td>CS028414000014</td><td>P060101005</td><td>170</td></tr><tr><th>4</th><td>20190205</td><td>ZZ000000000000</td><td>P050301001</td><td>25</td></tr><tr><th>5</th><td>20180821</td><td>CS025415000050</td><td>P060102007</td><td>90</td></tr><tr><th>6</th><td>20190605</td><td>CS003515000195</td><td>P050102002</td><td>138</td></tr><tr><th>7</th><td>20181205</td><td>CS024514000042</td><td>P080101005</td><td>30</td></tr><tr><th>8</th><td>20190922</td><td>CS040415000178</td><td>P070501004</td><td>128</td></tr><tr><th>9</th><td>20170504</td><td>ZZ000000000000</td><td>P071302010</td><td>770</td></tr><tr><th>10</th><td>20191010</td><td>CS027514000015</td><td>P071101003</td><td>680</td></tr></tbody></table>"
      ],
      "text/latex": [
       "\\begin{tabular}{r|cccc}\n",
       "\t& sales\\_ymd & customer\\_id & product\\_cd & amount\\\\\n",
       "\t\\hline\n",
       "\t& Int64 & String & String & Int64\\\\\n",
       "\t\\hline\n",
       "\t1 & 20181103 & CS006214000001 & P070305012 & 158 \\\\\n",
       "\t2 & 20181118 & CS008415000097 & P070701017 & 81 \\\\\n",
       "\t3 & 20170712 & CS028414000014 & P060101005 & 170 \\\\\n",
       "\t4 & 20190205 & ZZ000000000000 & P050301001 & 25 \\\\\n",
       "\t5 & 20180821 & CS025415000050 & P060102007 & 90 \\\\\n",
       "\t6 & 20190605 & CS003515000195 & P050102002 & 138 \\\\\n",
       "\t7 & 20181205 & CS024514000042 & P080101005 & 30 \\\\\n",
       "\t8 & 20190922 & CS040415000178 & P070501004 & 128 \\\\\n",
       "\t9 & 20170504 & ZZ000000000000 & P071302010 & 770 \\\\\n",
       "\t10 & 20191010 & CS027514000015 & P071101003 & 680 \\\\\n",
       "\\end{tabular}\n"
      ],
      "text/plain": [
       "10×4 DataFrame\n"
      ]
     },
     "execution_count": 44,
     "metadata": {},
     "output_type": "execute_result"
    }
   ],
   "source": [
    "first(df_receipt[:,[\"sales_ymd\", \"customer_id\", \"product_cd\", \"amount\"]], 10)\n"
   ]
  },
  {
   "cell_type": "markdown",
   "metadata": {},
   "source": [
    "---\n",
    "> P-003: レシート明細のデータフレーム（df_receipt）から売上日（sales_ymd）、顧客ID（customer_id）、商品コード（product_cd）、売上金額（amount）の順に列を指定し、10件表示させよ。ただし、sales_ymdはsales_dateに項目名を変更しながら抽出すること。"
   ]
  },
  {
   "cell_type": "code",
   "execution_count": 47,
   "metadata": {},
   "outputs": [
    {
     "data": {
      "text/html": [
       "<table class=\"data-frame\"><thead><tr><th></th><th>sales_date</th><th>customer_id</th><th>product_cd</th><th>amount</th></tr><tr><th></th><th>Int64</th><th>String</th><th>String</th><th>Int64</th></tr></thead><tbody><p>10 rows × 4 columns</p><tr><th>1</th><td>20181103</td><td>CS006214000001</td><td>P070305012</td><td>158</td></tr><tr><th>2</th><td>20181118</td><td>CS008415000097</td><td>P070701017</td><td>81</td></tr><tr><th>3</th><td>20170712</td><td>CS028414000014</td><td>P060101005</td><td>170</td></tr><tr><th>4</th><td>20190205</td><td>ZZ000000000000</td><td>P050301001</td><td>25</td></tr><tr><th>5</th><td>20180821</td><td>CS025415000050</td><td>P060102007</td><td>90</td></tr><tr><th>6</th><td>20190605</td><td>CS003515000195</td><td>P050102002</td><td>138</td></tr><tr><th>7</th><td>20181205</td><td>CS024514000042</td><td>P080101005</td><td>30</td></tr><tr><th>8</th><td>20190922</td><td>CS040415000178</td><td>P070501004</td><td>128</td></tr><tr><th>9</th><td>20170504</td><td>ZZ000000000000</td><td>P071302010</td><td>770</td></tr><tr><th>10</th><td>20191010</td><td>CS027514000015</td><td>P071101003</td><td>680</td></tr></tbody></table>"
      ],
      "text/latex": [
       "\\begin{tabular}{r|cccc}\n",
       "\t& sales\\_date & customer\\_id & product\\_cd & amount\\\\\n",
       "\t\\hline\n",
       "\t& Int64 & String & String & Int64\\\\\n",
       "\t\\hline\n",
       "\t1 & 20181103 & CS006214000001 & P070305012 & 158 \\\\\n",
       "\t2 & 20181118 & CS008415000097 & P070701017 & 81 \\\\\n",
       "\t3 & 20170712 & CS028414000014 & P060101005 & 170 \\\\\n",
       "\t4 & 20190205 & ZZ000000000000 & P050301001 & 25 \\\\\n",
       "\t5 & 20180821 & CS025415000050 & P060102007 & 90 \\\\\n",
       "\t6 & 20190605 & CS003515000195 & P050102002 & 138 \\\\\n",
       "\t7 & 20181205 & CS024514000042 & P080101005 & 30 \\\\\n",
       "\t8 & 20190922 & CS040415000178 & P070501004 & 128 \\\\\n",
       "\t9 & 20170504 & ZZ000000000000 & P071302010 & 770 \\\\\n",
       "\t10 & 20191010 & CS027514000015 & P071101003 & 680 \\\\\n",
       "\\end{tabular}\n"
      ],
      "text/plain": [
       "10×4 DataFrame\n"
      ]
     },
     "execution_count": 47,
     "metadata": {},
     "output_type": "execute_result"
    }
   ],
   "source": [
    "first(rename(df_receipt,\"sales_ymd\" => \"sales_date\")[:,[\"sales_date\", \"customer_id\", \"product_cd\", \"amount\"]], 10)\n"
   ]
  },
  {
   "cell_type": "markdown",
   "metadata": {},
   "source": [
    "---\n",
    "> P-004: レシート明細のデータフレーム（df_receipt）から売上日（sales_ymd）、顧客ID（customer_id）、商品コード（product_cd）、売上金額（amount）の順に列を指定し、以下の条件を満たすデータを抽出せよ。\n",
    "> - 顧客ID（customer_id）が\"CS018205000001\""
   ]
  },
  {
   "cell_type": "code",
   "execution_count": 70,
   "metadata": {},
   "outputs": [
    {
     "data": {
      "text/html": [
       "<table class=\"data-frame\"><thead><tr><th></th><th>sales_ymd</th><th>customer_id</th><th>product_cd</th><th>amount</th></tr><tr><th></th><th>Int64</th><th>String</th><th>String</th><th>Int64</th></tr></thead><tbody><p>12 rows × 4 columns</p><tr><th>1</th><td>20180911</td><td>CS018205000001</td><td>P071401012</td><td>2200</td></tr><tr><th>2</th><td>20180414</td><td>CS018205000001</td><td>P060104007</td><td>600</td></tr><tr><th>3</th><td>20170614</td><td>CS018205000001</td><td>P050206001</td><td>990</td></tr><tr><th>4</th><td>20170614</td><td>CS018205000001</td><td>P060702015</td><td>108</td></tr><tr><th>5</th><td>20190216</td><td>CS018205000001</td><td>P071005024</td><td>102</td></tr><tr><th>6</th><td>20180414</td><td>CS018205000001</td><td>P071101002</td><td>278</td></tr><tr><th>7</th><td>20190226</td><td>CS018205000001</td><td>P070902035</td><td>168</td></tr><tr><th>8</th><td>20190924</td><td>CS018205000001</td><td>P060805001</td><td>495</td></tr><tr><th>9</th><td>20190226</td><td>CS018205000001</td><td>P071401020</td><td>2200</td></tr><tr><th>10</th><td>20180911</td><td>CS018205000001</td><td>P071401005</td><td>1100</td></tr><tr><th>&vellip;</th><td>&vellip;</td><td>&vellip;</td><td>&vellip;</td><td>&vellip;</td></tr></tbody></table>"
      ],
      "text/latex": [
       "\\begin{tabular}{r|cccc}\n",
       "\t& sales\\_ymd & customer\\_id & product\\_cd & amount\\\\\n",
       "\t\\hline\n",
       "\t& Int64 & String & String & Int64\\\\\n",
       "\t\\hline\n",
       "\t1 & 20180911 & CS018205000001 & P071401012 & 2200 \\\\\n",
       "\t2 & 20180414 & CS018205000001 & P060104007 & 600 \\\\\n",
       "\t3 & 20170614 & CS018205000001 & P050206001 & 990 \\\\\n",
       "\t4 & 20170614 & CS018205000001 & P060702015 & 108 \\\\\n",
       "\t5 & 20190216 & CS018205000001 & P071005024 & 102 \\\\\n",
       "\t6 & 20180414 & CS018205000001 & P071101002 & 278 \\\\\n",
       "\t7 & 20190226 & CS018205000001 & P070902035 & 168 \\\\\n",
       "\t8 & 20190924 & CS018205000001 & P060805001 & 495 \\\\\n",
       "\t9 & 20190226 & CS018205000001 & P071401020 & 2200 \\\\\n",
       "\t10 & 20180911 & CS018205000001 & P071401005 & 1100 \\\\\n",
       "\t$\\dots$ & $\\dots$ & $\\dots$ & $\\dots$ & $\\dots$ \\\\\n",
       "\\end{tabular}\n"
      ],
      "text/plain": [
       "12×4 DataFrame\n"
      ]
     },
     "execution_count": 70,
     "metadata": {},
     "output_type": "execute_result"
    }
   ],
   "source": [
    "# 行の条件、列の条件\n",
    "df_receipt[df_receipt.\"customer_id\".==\"CS018205000001\",\n",
    "    [\"sales_ymd\", \"customer_id\", \"product_cd\", \"amount\"]]"
   ]
  },
  {
   "cell_type": "markdown",
   "metadata": {},
   "source": [
    "---\n",
    "> P-005: レシート明細のデータフレーム（df_receipt）から売上日（sales_ymd）、顧客ID（customer_id）、商品コード（product_cd）、売上金額（amount）の順に列を指定し、以下の条件を満たすデータを抽出せよ。\n",
    "> - 顧客ID（customer_id）が\"CS018205000001\"\n",
    "> - 売上金額（amount）が1,000以上"
   ]
  },
  {
   "cell_type": "code",
   "execution_count": 75,
   "metadata": {},
   "outputs": [
    {
     "data": {
      "text/html": [
       "<table class=\"data-frame\"><thead><tr><th></th><th>sales_ymd</th><th>customer_id</th><th>product_cd</th><th>amount</th></tr><tr><th></th><th>Int64</th><th>String</th><th>String</th><th>Int64</th></tr></thead><tbody><p>3 rows × 4 columns</p><tr><th>1</th><td>20180911</td><td>CS018205000001</td><td>P071401012</td><td>2200</td></tr><tr><th>2</th><td>20190226</td><td>CS018205000001</td><td>P071401020</td><td>2200</td></tr><tr><th>3</th><td>20180911</td><td>CS018205000001</td><td>P071401005</td><td>1100</td></tr></tbody></table>"
      ],
      "text/latex": [
       "\\begin{tabular}{r|cccc}\n",
       "\t& sales\\_ymd & customer\\_id & product\\_cd & amount\\\\\n",
       "\t\\hline\n",
       "\t& Int64 & String & String & Int64\\\\\n",
       "\t\\hline\n",
       "\t1 & 20180911 & CS018205000001 & P071401012 & 2200 \\\\\n",
       "\t2 & 20190226 & CS018205000001 & P071401020 & 2200 \\\\\n",
       "\t3 & 20180911 & CS018205000001 & P071401005 & 1100 \\\\\n",
       "\\end{tabular}\n"
      ],
      "text/plain": [
       "3×4 DataFrame\n",
       "│ Row │ sales_ymd │ customer_id    │ product_cd │ amount │\n",
       "│     │ \u001b[90mInt64\u001b[39m     │ \u001b[90mString\u001b[39m         │ \u001b[90mString\u001b[39m     │ \u001b[90mInt64\u001b[39m  │\n",
       "├─────┼───────────┼────────────────┼────────────┼────────┤\n",
       "│ 1   │ 20180911  │ CS018205000001 │ P071401012 │ 2200   │\n",
       "│ 2   │ 20190226  │ CS018205000001 │ P071401020 │ 2200   │\n",
       "│ 3   │ 20180911  │ CS018205000001 │ P071401005 │ 1100   │"
      ]
     },
     "execution_count": 75,
     "metadata": {},
     "output_type": "execute_result"
    }
   ],
   "source": [
    "# 行の条件、列の条件\n",
    "df_receipt[(df_receipt.\"customer_id\" .== \"CS018205000001\") .& (df_receipt.\"amount\" .>= 1000),\n",
    "    [\"sales_ymd\", \"customer_id\", \"product_cd\", \"amount\"]]\n"
   ]
  },
  {
   "cell_type": "markdown",
   "metadata": {},
   "source": [
    "---\n",
    "> P-006: レシート明細データフレーム「df_receipt」から売上日（sales_ymd）、顧客ID（customer_id）、商品コード（product_cd）、売上数量（quantity）、売上金額（amount）の順に列を指定し、以下の条件を満たすデータを抽出せよ。\n",
    "> - 顧客ID（customer_id）が\"CS018205000001\"\n",
    "> - 売上金額（amount）が1,000以上または売上数量（quantity）が5以上"
   ]
  },
  {
   "cell_type": "code",
   "execution_count": 85,
   "metadata": {},
   "outputs": [
    {
     "data": {
      "text/html": [
       "<table class=\"data-frame\"><thead><tr><th></th><th>sales_ymd</th><th>customer_id</th><th>product_cd</th><th>quantity</th><th>amount</th></tr><tr><th></th><th>Int64</th><th>String</th><th>String</th><th>Int64</th><th>Int64</th></tr></thead><tbody><p>5 rows × 5 columns</p><tr><th>1</th><td>20180911</td><td>CS018205000001</td><td>P071401012</td><td>1</td><td>2200</td></tr><tr><th>2</th><td>20180414</td><td>CS018205000001</td><td>P060104007</td><td>6</td><td>600</td></tr><tr><th>3</th><td>20170614</td><td>CS018205000001</td><td>P050206001</td><td>5</td><td>990</td></tr><tr><th>4</th><td>20190226</td><td>CS018205000001</td><td>P071401020</td><td>1</td><td>2200</td></tr><tr><th>5</th><td>20180911</td><td>CS018205000001</td><td>P071401005</td><td>1</td><td>1100</td></tr></tbody></table>"
      ],
      "text/latex": [
       "\\begin{tabular}{r|ccccc}\n",
       "\t& sales\\_ymd & customer\\_id & product\\_cd & quantity & amount\\\\\n",
       "\t\\hline\n",
       "\t& Int64 & String & String & Int64 & Int64\\\\\n",
       "\t\\hline\n",
       "\t1 & 20180911 & CS018205000001 & P071401012 & 1 & 2200 \\\\\n",
       "\t2 & 20180414 & CS018205000001 & P060104007 & 6 & 600 \\\\\n",
       "\t3 & 20170614 & CS018205000001 & P050206001 & 5 & 990 \\\\\n",
       "\t4 & 20190226 & CS018205000001 & P071401020 & 1 & 2200 \\\\\n",
       "\t5 & 20180911 & CS018205000001 & P071401005 & 1 & 1100 \\\\\n",
       "\\end{tabular}\n"
      ],
      "text/plain": [
       "5×5 DataFrame\n"
      ]
     },
     "execution_count": 85,
     "metadata": {},
     "output_type": "execute_result"
    }
   ],
   "source": [
    "# 行の条件、列の条件\n",
    "df_receipt[(df_receipt.\"customer_id\" .== \"CS018205000001\") .&\n",
    "    ((df_receipt.\"amount\" .>= 1000) .| (df_receipt.\"quantity\" .>= 5)),\n",
    "    [\"sales_ymd\", \"customer_id\", \"product_cd\", \"quantity\", \"amount\"]]\n"
   ]
  },
  {
   "cell_type": "markdown",
   "metadata": {},
   "source": [
    "---\n",
    "> P-007: レシート明細のデータフレーム（df_receipt）から売上日（sales_ymd）、顧客ID（customer_id）、商品コード（product_cd）、売上金額（amount）の順に列を指定し、以下の条件を満たすデータを抽出せよ。\n",
    "> - 顧客ID（customer_id）が\"CS018205000001\"\n",
    "> - 売上金額（amount）が1,000以上2,000以下"
   ]
  },
  {
   "cell_type": "code",
   "execution_count": 89,
   "metadata": {},
   "outputs": [
    {
     "data": {
      "text/html": [
       "<table class=\"data-frame\"><thead><tr><th></th><th>sales_ymd</th><th>customer_id</th><th>product_cd</th><th>amount</th></tr><tr><th></th><th>Int64</th><th>String</th><th>String</th><th>Int64</th></tr></thead><tbody><p>1 rows × 4 columns</p><tr><th>1</th><td>20180911</td><td>CS018205000001</td><td>P071401005</td><td>1100</td></tr></tbody></table>"
      ],
      "text/latex": [
       "\\begin{tabular}{r|cccc}\n",
       "\t& sales\\_ymd & customer\\_id & product\\_cd & amount\\\\\n",
       "\t\\hline\n",
       "\t& Int64 & String & String & Int64\\\\\n",
       "\t\\hline\n",
       "\t1 & 20180911 & CS018205000001 & P071401005 & 1100 \\\\\n",
       "\\end{tabular}\n"
      ],
      "text/plain": [
       "1×4 DataFrame\n",
       "│ Row │ sales_ymd │ customer_id    │ product_cd │ amount │\n",
       "│     │ \u001b[90mInt64\u001b[39m     │ \u001b[90mString\u001b[39m         │ \u001b[90mString\u001b[39m     │ \u001b[90mInt64\u001b[39m  │\n",
       "├─────┼───────────┼────────────────┼────────────┼────────┤\n",
       "│ 1   │ 20180911  │ CS018205000001 │ P071401005 │ 1100   │"
      ]
     },
     "execution_count": 89,
     "metadata": {},
     "output_type": "execute_result"
    }
   ],
   "source": [
    "# 行の条件、列の条件\n",
    "df_receipt[(df_receipt.\"customer_id\" .== \"CS018205000001\") .&\n",
    "    (df_receipt.\"amount\" .>= 1000) .& (df_receipt.\"amount\" .<= 2000),\n",
    "    [\"sales_ymd\", \"customer_id\", \"product_cd\", \"amount\"]]\n"
   ]
  },
  {
   "cell_type": "markdown",
   "metadata": {},
   "source": [
    "---\n",
    "> P-008: レシート明細のデータフレーム（df_receipt）から売上日（sales_ymd）、顧客ID（customer_id）、商品コード（product_cd）、売上金額（amount）の順に列を指定し、以下の条件を満たすデータを抽出せよ。\n",
    "> - 顧客ID（customer_id）が\"CS018205000001\"\n",
    "> - 商品コード（product_cd）が\"P071401019\"以外"
   ]
  },
  {
   "cell_type": "code",
   "execution_count": 96,
   "metadata": {},
   "outputs": [
    {
     "data": {
      "text/html": [
       "<table class=\"data-frame\"><thead><tr><th></th><th>sales_ymd</th><th>customer_id</th><th>product_cd</th><th>amount</th></tr><tr><th></th><th>Int64</th><th>String</th><th>String</th><th>Int64</th></tr></thead><tbody><p>0 rows × 4 columns</p></tbody></table>"
      ],
      "text/latex": [
       "\\begin{tabular}{r|cccc}\n",
       "\t& sales\\_ymd & customer\\_id & product\\_cd & amount\\\\\n",
       "\t\\hline\n",
       "\t& Int64 & String & String & Int64\\\\\n",
       "\t\\hline\n",
       "\\end{tabular}\n"
      ],
      "text/plain": [
       "0×4 DataFrame\n"
      ]
     },
     "execution_count": 96,
     "metadata": {},
     "output_type": "execute_result"
    }
   ],
   "source": [
    "# 行の条件、列の条件\n",
    "df_receipt[(df_receipt.\"customer_id\" .== \"CS018205000001\") .&\n",
    "    (df_receipt.\"product_cd\" .!= \"P071401019\"),\n",
    "    [\"sales_ymd\", \"customer_id\", \"product_cd\", \"amount\"]]"
   ]
  },
  {
   "cell_type": "markdown",
   "metadata": {},
   "source": [
    "---\n",
    "> P-009: 以下の処理において、出力結果を変えずにORをANDに書き換えよ。\n",
    "\n",
    "`df_store.query('not(prefecture_cd == \"13\" | floor_area > 900)')`"
   ]
  },
  {
   "cell_type": "code",
   "execution_count": 104,
   "metadata": {},
   "outputs": [
    {
     "data": {
      "text/html": [
       "<table class=\"data-frame\"><thead><tr><th></th><th>store_cd</th><th>store_name</th><th>prefecture_cd</th><th>prefecture</th><th>address</th><th>address_kana</th><th>tel_no</th><th>longitude</th><th>latitude</th><th>floor_area</th></tr><tr><th></th><th>String</th><th>String</th><th>Int64</th><th>String</th><th>String</th><th>String</th><th>String</th><th>Float64</th><th>Float64</th><th>Float64</th></tr></thead><tbody><p>3 rows × 10 columns</p><tr><th>1</th><td>S14046</td><td>北山田店</td><td>14</td><td>神奈川県</td><td>神奈川県横浜市都筑区北山田一丁目</td><td>カナガワケンヨコハマシツヅキクキタヤマタイッチョウメ</td><td>045-123-4049</td><td>139.592</td><td>35.5619</td><td>831.0</td></tr><tr><th>2</th><td>S14011</td><td>日吉本町店</td><td>14</td><td>神奈川県</td><td>神奈川県横浜市港北区日吉本町四丁目</td><td>カナガワケンヨコハマシコウホククヒヨシホンチョウヨンチョウメ</td><td>045-123-4033</td><td>139.632</td><td>35.5466</td><td>890.0</td></tr><tr><th>3</th><td>S12013</td><td>習志野店</td><td>12</td><td>千葉県</td><td>千葉県習志野市芝園一丁目</td><td>チバケンナラシノシシバゾノイッチョウメ</td><td>047-123-4002</td><td>140.022</td><td>35.6612</td><td>808.0</td></tr></tbody></table>"
      ],
      "text/latex": [
       "\\begin{tabular}{r|cccccccccc}\n",
       "\t& store\\_cd & store\\_name & prefecture\\_cd & prefecture & address & address\\_kana & tel\\_no & longitude & latitude & floor\\_area\\\\\n",
       "\t\\hline\n",
       "\t& String & String & Int64 & String & String & String & String & Float64 & Float64 & Float64\\\\\n",
       "\t\\hline\n",
       "\t1 & S14046 & 北山田店 & 14 & 神奈川県 & 神奈川県横浜市都筑区北山田一丁目 & カナガワケンヨコハマシツヅキクキタヤマタイッチョウメ & 045-123-4049 & 139.592 & 35.5619 & 831.0 \\\\\n",
       "\t2 & S14011 & 日吉本町店 & 14 & 神奈川県 & 神奈川県横浜市港北区日吉本町四丁目 & カナガワケンヨコハマシコウホククヒヨシホンチョウヨンチョウメ & 045-123-4033 & 139.632 & 35.5466 & 890.0 \\\\\n",
       "\t3 & S12013 & 習志野店 & 12 & 千葉県 & 千葉県習志野市芝園一丁目 & チバケンナラシノシシバゾノイッチョウメ & 047-123-4002 & 140.022 & 35.6612 & 808.0 \\\\\n",
       "\\end{tabular}\n"
      ],
      "text/plain": [
       "3×10 DataFrame\n",
       "│ Row │ store_cd │ store_name │ prefecture_cd │ prefecture │ address                            │ address_kana                                                 │ tel_no       │ longitude │ latitude │ floor_area │\n",
       "│     │ \u001b[90mString\u001b[39m   │ \u001b[90mString\u001b[39m     │ \u001b[90mInt64\u001b[39m         │ \u001b[90mString\u001b[39m     │ \u001b[90mString\u001b[39m                             │ \u001b[90mString\u001b[39m                                                       │ \u001b[90mString\u001b[39m       │ \u001b[90mFloat64\u001b[39m   │ \u001b[90mFloat64\u001b[39m  │ \u001b[90mFloat64\u001b[39m    │\n",
       "├─────┼──────────┼────────────┼───────────────┼────────────┼────────────────────────────────────┼──────────────────────────────────────────────────────────────┼──────────────┼───────────┼──────────┼────────────┤\n",
       "│ 1   │ S14046   │ 北山田店   │ 14            │ 神奈川県   │ 神奈川県横浜市都筑区北山田一丁目   │ カナガワケンヨコハマシツヅキクキタヤマタイッチョウメ         │ 045-123-4049 │ 139.592   │ 35.5619  │ 831.0      │\n",
       "│ 2   │ S14011   │ 日吉本町店 │ 14            │ 神奈川県   │ 神奈川県横浜市港北区日吉本町四丁目 │ カナガワケンヨコハマシコウホククヒヨシホンチョウヨンチョウメ │ 045-123-4033 │ 139.632   │ 35.5466  │ 890.0      │\n",
       "│ 3   │ S12013   │ 習志野店   │ 12            │ 千葉県     │ 千葉県習志野市芝園一丁目           │ チバケンナラシノシシバゾノイッチョウメ                       │ 047-123-4002 │ 140.022   │ 35.6612  │ 808.0      │"
      ]
     },
     "execution_count": 104,
     "metadata": {},
     "output_type": "execute_result"
    }
   ],
   "source": [
    "# notA or B = A and notB\n",
    "df_store[(df_store.\"prefecture_cd\" .!= 13) .&\n",
    "    (df_store.\"floor_area\" .<= 900),:]"
   ]
  },
  {
   "cell_type": "markdown",
   "metadata": {},
   "source": [
    "---\n",
    "> P-010: 店舗データフレーム（df_store）から、店舗コード（store_cd）が\"S14\"で始まるものだけ全項目抽出し、10件だけ表示せよ。"
   ]
  },
  {
   "cell_type": "code",
   "execution_count": 113,
   "metadata": {},
   "outputs": [
    {
     "data": {
      "text/html": [
       "<table class=\"data-frame\"><thead><tr><th></th><th>store_cd</th><th>store_name</th><th>prefecture_cd</th><th>prefecture</th><th>address</th><th>address_kana</th><th>tel_no</th><th>longitude</th><th>latitude</th><th>floor_area</th></tr><tr><th></th><th>String</th><th>String</th><th>Int64</th><th>String</th><th>String</th><th>String</th><th>String</th><th>Float64</th><th>Float64</th><th>Float64</th></tr></thead><tbody><p>10 rows × 10 columns</p><tr><th>1</th><td>S14010</td><td>菊名店</td><td>14</td><td>神奈川県</td><td>神奈川県横浜市港北区菊名一丁目</td><td>カナガワケンヨコハマシコウホククキクナイッチョウメ</td><td>045-123-4032</td><td>139.633</td><td>35.5005</td><td>1732.0</td></tr><tr><th>2</th><td>S14033</td><td>阿久和店</td><td>14</td><td>神奈川県</td><td>神奈川県横浜市瀬谷区阿久和西一丁目</td><td>カナガワケンヨコハマシセヤクアクワニシイッチョウメ</td><td>045-123-4043</td><td>139.496</td><td>35.4592</td><td>1495.0</td></tr><tr><th>3</th><td>S14036</td><td>相模原中央店</td><td>14</td><td>神奈川県</td><td>神奈川県相模原市中央二丁目</td><td>カナガワケンサガミハラシチュウオウニチョウメ</td><td>042-123-4045</td><td>139.372</td><td>35.5733</td><td>1679.0</td></tr><tr><th>4</th><td>S14040</td><td>長津田店</td><td>14</td><td>神奈川県</td><td>神奈川県横浜市緑区長津田みなみ台五丁目</td><td>カナガワケンヨコハマシミドリクナガツタミナミダイゴチョウメ</td><td>045-123-4046</td><td>139.499</td><td>35.524</td><td>1548.0</td></tr><tr><th>5</th><td>S14050</td><td>阿久和西店</td><td>14</td><td>神奈川県</td><td>神奈川県横浜市瀬谷区阿久和西一丁目</td><td>カナガワケンヨコハマシセヤクアクワニシイッチョウメ</td><td>045-123-4053</td><td>139.496</td><td>35.4592</td><td>1830.0</td></tr><tr><th>6</th><td>S14028</td><td>二ツ橋店</td><td>14</td><td>神奈川県</td><td>神奈川県横浜市瀬谷区二ツ橋町</td><td>カナガワケンヨコハマシセヤクフタツバシチョウ</td><td>045-123-4042</td><td>139.496</td><td>35.463</td><td>1574.0</td></tr><tr><th>7</th><td>S14012</td><td>本牧和田店</td><td>14</td><td>神奈川県</td><td>神奈川県横浜市中区本牧和田</td><td>カナガワケンヨコハマシナカクホンモクワダ</td><td>045-123-4034</td><td>139.658</td><td>35.4216</td><td>1341.0</td></tr><tr><th>8</th><td>S14046</td><td>北山田店</td><td>14</td><td>神奈川県</td><td>神奈川県横浜市都筑区北山田一丁目</td><td>カナガワケンヨコハマシツヅキクキタヤマタイッチョウメ</td><td>045-123-4049</td><td>139.592</td><td>35.5619</td><td>831.0</td></tr><tr><th>9</th><td>S14022</td><td>逗子店</td><td>14</td><td>神奈川県</td><td>神奈川県逗子市逗子一丁目</td><td>カナガワケンズシシズシイッチョウメ</td><td>046-123-4036</td><td>139.579</td><td>35.2964</td><td>1838.0</td></tr><tr><th>10</th><td>S14011</td><td>日吉本町店</td><td>14</td><td>神奈川県</td><td>神奈川県横浜市港北区日吉本町四丁目</td><td>カナガワケンヨコハマシコウホククヒヨシホンチョウヨンチョウメ</td><td>045-123-4033</td><td>139.632</td><td>35.5466</td><td>890.0</td></tr></tbody></table>"
      ],
      "text/latex": [
       "\\begin{tabular}{r|cccccccccc}\n",
       "\t& store\\_cd & store\\_name & prefecture\\_cd & prefecture & address & address\\_kana & tel\\_no & longitude & latitude & floor\\_area\\\\\n",
       "\t\\hline\n",
       "\t& String & String & Int64 & String & String & String & String & Float64 & Float64 & Float64\\\\\n",
       "\t\\hline\n",
       "\t1 & S14010 & 菊名店 & 14 & 神奈川県 & 神奈川県横浜市港北区菊名一丁目 & カナガワケンヨコハマシコウホククキクナイッチョウメ & 045-123-4032 & 139.633 & 35.5005 & 1732.0 \\\\\n",
       "\t2 & S14033 & 阿久和店 & 14 & 神奈川県 & 神奈川県横浜市瀬谷区阿久和西一丁目 & カナガワケンヨコハマシセヤクアクワニシイッチョウメ & 045-123-4043 & 139.496 & 35.4592 & 1495.0 \\\\\n",
       "\t3 & S14036 & 相模原中央店 & 14 & 神奈川県 & 神奈川県相模原市中央二丁目 & カナガワケンサガミハラシチュウオウニチョウメ & 042-123-4045 & 139.372 & 35.5733 & 1679.0 \\\\\n",
       "\t4 & S14040 & 長津田店 & 14 & 神奈川県 & 神奈川県横浜市緑区長津田みなみ台五丁目 & カナガワケンヨコハマシミドリクナガツタミナミダイゴチョウメ & 045-123-4046 & 139.499 & 35.524 & 1548.0 \\\\\n",
       "\t5 & S14050 & 阿久和西店 & 14 & 神奈川県 & 神奈川県横浜市瀬谷区阿久和西一丁目 & カナガワケンヨコハマシセヤクアクワニシイッチョウメ & 045-123-4053 & 139.496 & 35.4592 & 1830.0 \\\\\n",
       "\t6 & S14028 & 二ツ橋店 & 14 & 神奈川県 & 神奈川県横浜市瀬谷区二ツ橋町 & カナガワケンヨコハマシセヤクフタツバシチョウ & 045-123-4042 & 139.496 & 35.463 & 1574.0 \\\\\n",
       "\t7 & S14012 & 本牧和田店 & 14 & 神奈川県 & 神奈川県横浜市中区本牧和田 & カナガワケンヨコハマシナカクホンモクワダ & 045-123-4034 & 139.658 & 35.4216 & 1341.0 \\\\\n",
       "\t8 & S14046 & 北山田店 & 14 & 神奈川県 & 神奈川県横浜市都筑区北山田一丁目 & カナガワケンヨコハマシツヅキクキタヤマタイッチョウメ & 045-123-4049 & 139.592 & 35.5619 & 831.0 \\\\\n",
       "\t9 & S14022 & 逗子店 & 14 & 神奈川県 & 神奈川県逗子市逗子一丁目 & カナガワケンズシシズシイッチョウメ & 046-123-4036 & 139.579 & 35.2964 & 1838.0 \\\\\n",
       "\t10 & S14011 & 日吉本町店 & 14 & 神奈川県 & 神奈川県横浜市港北区日吉本町四丁目 & カナガワケンヨコハマシコウホククヒヨシホンチョウヨンチョウメ & 045-123-4033 & 139.632 & 35.5466 & 890.0 \\\\\n",
       "\\end{tabular}\n"
      ],
      "text/plain": [
       "10×10 DataFrame\n"
      ]
     },
     "execution_count": 113,
     "metadata": {},
     "output_type": "execute_result"
    }
   ],
   "source": [
    "# ismatch的な関数\n",
    "first(df_store[[occursin(r\"S14\", s) for s in df_store[:,\"store_cd\"]], :], 10)"
   ]
  },
  {
   "cell_type": "markdown",
   "metadata": {},
   "source": [
    "---\n",
    "> P-011: 顧客データフレーム（df_customer）から顧客ID（customer_id）の末尾が1のものだけ全項目抽出し、10件だけ表示せよ。"
   ]
  },
  {
   "cell_type": "code",
   "execution_count": 116,
   "metadata": {},
   "outputs": [
    {
     "data": {
      "text/html": [
       "<table class=\"data-frame\"><thead><tr><th></th><th>customer_id</th><th>customer_name</th><th>gender_cd</th><th>gender</th><th>birth_day</th><th>age</th><th>postal_cd</th><th>address</th><th>application_store_cd</th><th>application_date</th><th>status_cd</th></tr><tr><th></th><th>String</th><th>String</th><th>Int64</th><th>String</th><th>Date</th><th>Int64</th><th>String</th><th>String</th><th>String</th><th>Int64</th><th>String</th></tr></thead><tbody><p>10 rows × 11 columns</p><tr><th>1</th><td>CS037613000071</td><td>六角 雅彦</td><td>9</td><td>不明</td><td>1952-04-01</td><td>66</td><td>136-0076</td><td>東京都江東区南砂**********</td><td>S13037</td><td>20150414</td><td>0-00000000-0</td></tr><tr><th>2</th><td>CS028811000001</td><td>堀井 かおり</td><td>1</td><td>女性</td><td>1933-03-27</td><td>86</td><td>245-0016</td><td>神奈川県横浜市泉区和泉町**********</td><td>S14028</td><td>20160115</td><td>0-00000000-0</td></tr><tr><th>3</th><td>CS040412000191</td><td>川井 郁恵</td><td>1</td><td>女性</td><td>1977-01-05</td><td>42</td><td>226-0021</td><td>神奈川県横浜市緑区北八朔町**********</td><td>S14040</td><td>20151101</td><td>1-20091025-4</td></tr><tr><th>4</th><td>CS028314000011</td><td>小菅 あおい</td><td>1</td><td>女性</td><td>1983-11-26</td><td>35</td><td>246-0038</td><td>神奈川県横浜市瀬谷区宮沢**********</td><td>S14028</td><td>20151123</td><td>1-20080426-5</td></tr><tr><th>5</th><td>CS039212000051</td><td>藤島 恵梨香</td><td>1</td><td>女性</td><td>1997-02-03</td><td>22</td><td>166-0001</td><td>東京都杉並区阿佐谷北**********</td><td>S13039</td><td>20171121</td><td>1-20100215-4</td></tr><tr><th>6</th><td>CS015412000111</td><td>松居 奈月</td><td>1</td><td>女性</td><td>1972-10-04</td><td>46</td><td>136-0071</td><td>東京都江東区亀戸**********</td><td>S13015</td><td>20150629</td><td>0-00000000-0</td></tr><tr><th>7</th><td>CS004702000041</td><td>野島 洋</td><td>0</td><td>男性</td><td>1943-08-24</td><td>75</td><td>176-0022</td><td>東京都練馬区向山**********</td><td>S13004</td><td>20170218</td><td>0-00000000-0</td></tr><tr><th>8</th><td>CS041515000001</td><td>栗田 千夏</td><td>1</td><td>女性</td><td>1967-01-02</td><td>52</td><td>206-0001</td><td>東京都多摩市和田**********</td><td>S13041</td><td>20160422</td><td>E-20100803-F</td></tr><tr><th>9</th><td>CS029313000221</td><td>北条 ひかり</td><td>1</td><td>女性</td><td>1987-06-19</td><td>31</td><td>279-0011</td><td>千葉県浦安市美浜**********</td><td>S12029</td><td>20180810</td><td>0-00000000-0</td></tr><tr><th>10</th><td>CS034312000071</td><td>望月 奈央</td><td>1</td><td>女性</td><td>1980-09-20</td><td>38</td><td>213-0026</td><td>神奈川県川崎市高津区久末**********</td><td>S14034</td><td>20160106</td><td>0-00000000-0</td></tr></tbody></table>"
      ],
      "text/latex": [
       "\\begin{tabular}{r|ccccccccccc}\n",
       "\t& customer\\_id & customer\\_name & gender\\_cd & gender & birth\\_day & age & postal\\_cd & address & application\\_store\\_cd & application\\_date & status\\_cd\\\\\n",
       "\t\\hline\n",
       "\t& String & String & Int64 & String & Date & Int64 & String & String & String & Int64 & String\\\\\n",
       "\t\\hline\n",
       "\t1 & CS037613000071 & 六角 雅彦 & 9 & 不明 & 1952-04-01 & 66 & 136-0076 & 東京都江東区南砂********** & S13037 & 20150414 & 0-00000000-0 \\\\\n",
       "\t2 & CS028811000001 & 堀井 かおり & 1 & 女性 & 1933-03-27 & 86 & 245-0016 & 神奈川県横浜市泉区和泉町********** & S14028 & 20160115 & 0-00000000-0 \\\\\n",
       "\t3 & CS040412000191 & 川井 郁恵 & 1 & 女性 & 1977-01-05 & 42 & 226-0021 & 神奈川県横浜市緑区北八朔町********** & S14040 & 20151101 & 1-20091025-4 \\\\\n",
       "\t4 & CS028314000011 & 小菅 あおい & 1 & 女性 & 1983-11-26 & 35 & 246-0038 & 神奈川県横浜市瀬谷区宮沢********** & S14028 & 20151123 & 1-20080426-5 \\\\\n",
       "\t5 & CS039212000051 & 藤島 恵梨香 & 1 & 女性 & 1997-02-03 & 22 & 166-0001 & 東京都杉並区阿佐谷北********** & S13039 & 20171121 & 1-20100215-4 \\\\\n",
       "\t6 & CS015412000111 & 松居 奈月 & 1 & 女性 & 1972-10-04 & 46 & 136-0071 & 東京都江東区亀戸********** & S13015 & 20150629 & 0-00000000-0 \\\\\n",
       "\t7 & CS004702000041 & 野島 洋 & 0 & 男性 & 1943-08-24 & 75 & 176-0022 & 東京都練馬区向山********** & S13004 & 20170218 & 0-00000000-0 \\\\\n",
       "\t8 & CS041515000001 & 栗田 千夏 & 1 & 女性 & 1967-01-02 & 52 & 206-0001 & 東京都多摩市和田********** & S13041 & 20160422 & E-20100803-F \\\\\n",
       "\t9 & CS029313000221 & 北条 ひかり & 1 & 女性 & 1987-06-19 & 31 & 279-0011 & 千葉県浦安市美浜********** & S12029 & 20180810 & 0-00000000-0 \\\\\n",
       "\t10 & CS034312000071 & 望月 奈央 & 1 & 女性 & 1980-09-20 & 38 & 213-0026 & 神奈川県川崎市高津区久末********** & S14034 & 20160106 & 0-00000000-0 \\\\\n",
       "\\end{tabular}\n"
      ],
      "text/plain": [
       "10×11 DataFrame\n"
      ]
     },
     "execution_count": 116,
     "metadata": {},
     "output_type": "execute_result"
    }
   ],
   "source": [
    "# ismatch的な関数\n",
    "first(df_customer[[occursin(r\"1$\", s) for s in df_customer[:,\"customer_id\"]], :], 10)"
   ]
  },
  {
   "cell_type": "markdown",
   "metadata": {},
   "source": [
    "---\n",
    "> P-012: 店舗データフレーム（df_store）から横浜市の店舗だけ全項目表示せよ。"
   ]
  },
  {
   "cell_type": "code",
   "execution_count": 119,
   "metadata": {},
   "outputs": [
    {
     "data": {
      "text/html": [
       "<table class=\"data-frame\"><thead><tr><th></th><th>store_cd</th><th>store_name</th><th>prefecture_cd</th><th>prefecture</th><th>address</th><th>address_kana</th><th>tel_no</th><th>longitude</th><th>latitude</th><th>floor_area</th></tr><tr><th></th><th>String</th><th>String</th><th>Int64</th><th>String</th><th>String</th><th>String</th><th>String</th><th>Float64</th><th>Float64</th><th>Float64</th></tr></thead><tbody><p>11 rows × 10 columns</p><tr><th>1</th><td>S14010</td><td>菊名店</td><td>14</td><td>神奈川県</td><td>神奈川県横浜市港北区菊名一丁目</td><td>カナガワケンヨコハマシコウホククキクナイッチョウメ</td><td>045-123-4032</td><td>139.633</td><td>35.5005</td><td>1732.0</td></tr><tr><th>2</th><td>S14033</td><td>阿久和店</td><td>14</td><td>神奈川県</td><td>神奈川県横浜市瀬谷区阿久和西一丁目</td><td>カナガワケンヨコハマシセヤクアクワニシイッチョウメ</td><td>045-123-4043</td><td>139.496</td><td>35.4592</td><td>1495.0</td></tr><tr><th>3</th><td>S14040</td><td>長津田店</td><td>14</td><td>神奈川県</td><td>神奈川県横浜市緑区長津田みなみ台五丁目</td><td>カナガワケンヨコハマシミドリクナガツタミナミダイゴチョウメ</td><td>045-123-4046</td><td>139.499</td><td>35.524</td><td>1548.0</td></tr><tr><th>4</th><td>S14050</td><td>阿久和西店</td><td>14</td><td>神奈川県</td><td>神奈川県横浜市瀬谷区阿久和西一丁目</td><td>カナガワケンヨコハマシセヤクアクワニシイッチョウメ</td><td>045-123-4053</td><td>139.496</td><td>35.4592</td><td>1830.0</td></tr><tr><th>5</th><td>S14028</td><td>二ツ橋店</td><td>14</td><td>神奈川県</td><td>神奈川県横浜市瀬谷区二ツ橋町</td><td>カナガワケンヨコハマシセヤクフタツバシチョウ</td><td>045-123-4042</td><td>139.496</td><td>35.463</td><td>1574.0</td></tr><tr><th>6</th><td>S14012</td><td>本牧和田店</td><td>14</td><td>神奈川県</td><td>神奈川県横浜市中区本牧和田</td><td>カナガワケンヨコハマシナカクホンモクワダ</td><td>045-123-4034</td><td>139.658</td><td>35.4216</td><td>1341.0</td></tr><tr><th>7</th><td>S14046</td><td>北山田店</td><td>14</td><td>神奈川県</td><td>神奈川県横浜市都筑区北山田一丁目</td><td>カナガワケンヨコハマシツヅキクキタヤマタイッチョウメ</td><td>045-123-4049</td><td>139.592</td><td>35.5619</td><td>831.0</td></tr><tr><th>8</th><td>S14011</td><td>日吉本町店</td><td>14</td><td>神奈川県</td><td>神奈川県横浜市港北区日吉本町四丁目</td><td>カナガワケンヨコハマシコウホククヒヨシホンチョウヨンチョウメ</td><td>045-123-4033</td><td>139.632</td><td>35.5466</td><td>890.0</td></tr><tr><th>9</th><td>S14048</td><td>中川中央店</td><td>14</td><td>神奈川県</td><td>神奈川県横浜市都筑区中川中央二丁目</td><td>カナガワケンヨコハマシツヅキクナカガワチュウオウニチョウメ</td><td>045-123-4051</td><td>139.576</td><td>35.5491</td><td>1657.0</td></tr><tr><th>10</th><td>S14042</td><td>新山下店</td><td>14</td><td>神奈川県</td><td>神奈川県横浜市中区新山下二丁目</td><td>カナガワケンヨコハマシナカクシンヤマシタニチョウメ</td><td>045-123-4047</td><td>139.659</td><td>35.4389</td><td>1044.0</td></tr><tr><th>&vellip;</th><td>&vellip;</td><td>&vellip;</td><td>&vellip;</td><td>&vellip;</td><td>&vellip;</td><td>&vellip;</td><td>&vellip;</td><td>&vellip;</td><td>&vellip;</td><td>&vellip;</td></tr></tbody></table>"
      ],
      "text/latex": [
       "\\begin{tabular}{r|cccccccccc}\n",
       "\t& store\\_cd & store\\_name & prefecture\\_cd & prefecture & address & address\\_kana & tel\\_no & longitude & latitude & floor\\_area\\\\\n",
       "\t\\hline\n",
       "\t& String & String & Int64 & String & String & String & String & Float64 & Float64 & Float64\\\\\n",
       "\t\\hline\n",
       "\t1 & S14010 & 菊名店 & 14 & 神奈川県 & 神奈川県横浜市港北区菊名一丁目 & カナガワケンヨコハマシコウホククキクナイッチョウメ & 045-123-4032 & 139.633 & 35.5005 & 1732.0 \\\\\n",
       "\t2 & S14033 & 阿久和店 & 14 & 神奈川県 & 神奈川県横浜市瀬谷区阿久和西一丁目 & カナガワケンヨコハマシセヤクアクワニシイッチョウメ & 045-123-4043 & 139.496 & 35.4592 & 1495.0 \\\\\n",
       "\t3 & S14040 & 長津田店 & 14 & 神奈川県 & 神奈川県横浜市緑区長津田みなみ台五丁目 & カナガワケンヨコハマシミドリクナガツタミナミダイゴチョウメ & 045-123-4046 & 139.499 & 35.524 & 1548.0 \\\\\n",
       "\t4 & S14050 & 阿久和西店 & 14 & 神奈川県 & 神奈川県横浜市瀬谷区阿久和西一丁目 & カナガワケンヨコハマシセヤクアクワニシイッチョウメ & 045-123-4053 & 139.496 & 35.4592 & 1830.0 \\\\\n",
       "\t5 & S14028 & 二ツ橋店 & 14 & 神奈川県 & 神奈川県横浜市瀬谷区二ツ橋町 & カナガワケンヨコハマシセヤクフタツバシチョウ & 045-123-4042 & 139.496 & 35.463 & 1574.0 \\\\\n",
       "\t6 & S14012 & 本牧和田店 & 14 & 神奈川県 & 神奈川県横浜市中区本牧和田 & カナガワケンヨコハマシナカクホンモクワダ & 045-123-4034 & 139.658 & 35.4216 & 1341.0 \\\\\n",
       "\t7 & S14046 & 北山田店 & 14 & 神奈川県 & 神奈川県横浜市都筑区北山田一丁目 & カナガワケンヨコハマシツヅキクキタヤマタイッチョウメ & 045-123-4049 & 139.592 & 35.5619 & 831.0 \\\\\n",
       "\t8 & S14011 & 日吉本町店 & 14 & 神奈川県 & 神奈川県横浜市港北区日吉本町四丁目 & カナガワケンヨコハマシコウホククヒヨシホンチョウヨンチョウメ & 045-123-4033 & 139.632 & 35.5466 & 890.0 \\\\\n",
       "\t9 & S14048 & 中川中央店 & 14 & 神奈川県 & 神奈川県横浜市都筑区中川中央二丁目 & カナガワケンヨコハマシツヅキクナカガワチュウオウニチョウメ & 045-123-4051 & 139.576 & 35.5491 & 1657.0 \\\\\n",
       "\t10 & S14042 & 新山下店 & 14 & 神奈川県 & 神奈川県横浜市中区新山下二丁目 & カナガワケンヨコハマシナカクシンヤマシタニチョウメ & 045-123-4047 & 139.659 & 35.4389 & 1044.0 \\\\\n",
       "\t$\\dots$ & $\\dots$ & $\\dots$ & $\\dots$ & $\\dots$ & $\\dots$ & $\\dots$ & $\\dots$ & $\\dots$ & $\\dots$ & $\\dots$ \\\\\n",
       "\\end{tabular}\n"
      ],
      "text/plain": [
       "11×10 DataFrame\n"
      ]
     },
     "execution_count": 119,
     "metadata": {},
     "output_type": "execute_result"
    }
   ],
   "source": [
    "df_store[[occursin(r\".*横浜市.*\", s) for s in df_store[:,\"address\"]], :]"
   ]
  },
  {
   "cell_type": "markdown",
   "metadata": {},
   "source": [
    "---\n",
    "> P-013: 顧客データフレーム（df_customer）から、ステータスコード（status_cd）の先頭がアルファベットのA〜Fで始まるデータを全項目抽出し、10件だけ表示せよ。"
   ]
  },
  {
   "cell_type": "code",
   "execution_count": 121,
   "metadata": {},
   "outputs": [
    {
     "data": {
      "text/html": [
       "<table class=\"data-frame\"><thead><tr><th></th><th>customer_id</th><th>customer_name</th><th>gender_cd</th><th>gender</th><th>birth_day</th><th>age</th><th>postal_cd</th><th>address</th><th>application_store_cd</th><th>application_date</th><th>status_cd</th></tr><tr><th></th><th>String</th><th>String</th><th>Int64</th><th>String</th><th>Date</th><th>Int64</th><th>String</th><th>String</th><th>String</th><th>Int64</th><th>String</th></tr></thead><tbody><p>10 rows × 11 columns</p><tr><th>1</th><td>CS031415000172</td><td>宇多田 貴美子</td><td>1</td><td>女性</td><td>1976-10-04</td><td>42</td><td>151-0053</td><td>東京都渋谷区代々木**********</td><td>S13031</td><td>20150529</td><td>D-20100325-C</td></tr><tr><th>2</th><td>CS015414000103</td><td>奥野 陽子</td><td>1</td><td>女性</td><td>1977-08-09</td><td>41</td><td>136-0073</td><td>東京都江東区北砂**********</td><td>S13015</td><td>20150722</td><td>B-20100609-B</td></tr><tr><th>3</th><td>CS011215000048</td><td>芦田 沙耶</td><td>1</td><td>女性</td><td>1992-02-01</td><td>27</td><td>223-0062</td><td>神奈川県横浜市港北区日吉本町**********</td><td>S14011</td><td>20150228</td><td>C-20100421-9</td></tr><tr><th>4</th><td>CS029415000023</td><td>梅田 里穂</td><td>1</td><td>女性</td><td>1976-01-17</td><td>43</td><td>279-0043</td><td>千葉県浦安市富士見**********</td><td>S12029</td><td>20150610</td><td>D-20100918-E</td></tr><tr><th>5</th><td>CS035415000029</td><td>寺沢 真希</td><td>9</td><td>不明</td><td>1977-09-27</td><td>41</td><td>158-0096</td><td>東京都世田谷区玉川台**********</td><td>S13035</td><td>20141220</td><td>F-20101029-F</td></tr><tr><th>6</th><td>CS031415000106</td><td>宇野 由美子</td><td>1</td><td>女性</td><td>1970-02-26</td><td>49</td><td>151-0053</td><td>東京都渋谷区代々木**********</td><td>S13031</td><td>20150201</td><td>F-20100511-E</td></tr><tr><th>7</th><td>CS029215000025</td><td>石倉 美帆</td><td>1</td><td>女性</td><td>1993-09-28</td><td>25</td><td>279-0022</td><td>千葉県浦安市今川**********</td><td>S12029</td><td>20150708</td><td>B-20100820-C</td></tr><tr><th>8</th><td>CS033605000005</td><td>猪股 雄太</td><td>0</td><td>男性</td><td>1955-12-05</td><td>63</td><td>246-0031</td><td>神奈川県横浜市瀬谷区瀬谷**********</td><td>S14033</td><td>20150425</td><td>F-20100917-E</td></tr><tr><th>9</th><td>CS033415000229</td><td>板垣 菜々美</td><td>1</td><td>女性</td><td>1977-11-07</td><td>41</td><td>246-0021</td><td>神奈川県横浜市瀬谷区二ツ橋町**********</td><td>S14033</td><td>20150712</td><td>F-20100326-E</td></tr><tr><th>10</th><td>CS008415000145</td><td>黒谷 麻緒</td><td>1</td><td>女性</td><td>1977-06-27</td><td>41</td><td>157-0067</td><td>東京都世田谷区喜多見**********</td><td>S13008</td><td>20150829</td><td>F-20100622-F</td></tr></tbody></table>"
      ],
      "text/latex": [
       "\\begin{tabular}{r|ccccccccccc}\n",
       "\t& customer\\_id & customer\\_name & gender\\_cd & gender & birth\\_day & age & postal\\_cd & address & application\\_store\\_cd & application\\_date & status\\_cd\\\\\n",
       "\t\\hline\n",
       "\t& String & String & Int64 & String & Date & Int64 & String & String & String & Int64 & String\\\\\n",
       "\t\\hline\n",
       "\t1 & CS031415000172 & 宇多田 貴美子 & 1 & 女性 & 1976-10-04 & 42 & 151-0053 & 東京都渋谷区代々木********** & S13031 & 20150529 & D-20100325-C \\\\\n",
       "\t2 & CS015414000103 & 奥野 陽子 & 1 & 女性 & 1977-08-09 & 41 & 136-0073 & 東京都江東区北砂********** & S13015 & 20150722 & B-20100609-B \\\\\n",
       "\t3 & CS011215000048 & 芦田 沙耶 & 1 & 女性 & 1992-02-01 & 27 & 223-0062 & 神奈川県横浜市港北区日吉本町********** & S14011 & 20150228 & C-20100421-9 \\\\\n",
       "\t4 & CS029415000023 & 梅田 里穂 & 1 & 女性 & 1976-01-17 & 43 & 279-0043 & 千葉県浦安市富士見********** & S12029 & 20150610 & D-20100918-E \\\\\n",
       "\t5 & CS035415000029 & 寺沢 真希 & 9 & 不明 & 1977-09-27 & 41 & 158-0096 & 東京都世田谷区玉川台********** & S13035 & 20141220 & F-20101029-F \\\\\n",
       "\t6 & CS031415000106 & 宇野 由美子 & 1 & 女性 & 1970-02-26 & 49 & 151-0053 & 東京都渋谷区代々木********** & S13031 & 20150201 & F-20100511-E \\\\\n",
       "\t7 & CS029215000025 & 石倉 美帆 & 1 & 女性 & 1993-09-28 & 25 & 279-0022 & 千葉県浦安市今川********** & S12029 & 20150708 & B-20100820-C \\\\\n",
       "\t8 & CS033605000005 & 猪股 雄太 & 0 & 男性 & 1955-12-05 & 63 & 246-0031 & 神奈川県横浜市瀬谷区瀬谷********** & S14033 & 20150425 & F-20100917-E \\\\\n",
       "\t9 & CS033415000229 & 板垣 菜々美 & 1 & 女性 & 1977-11-07 & 41 & 246-0021 & 神奈川県横浜市瀬谷区二ツ橋町********** & S14033 & 20150712 & F-20100326-E \\\\\n",
       "\t10 & CS008415000145 & 黒谷 麻緒 & 1 & 女性 & 1977-06-27 & 41 & 157-0067 & 東京都世田谷区喜多見********** & S13008 & 20150829 & F-20100622-F \\\\\n",
       "\\end{tabular}\n"
      ],
      "text/plain": [
       "10×11 DataFrame\n"
      ]
     },
     "execution_count": 121,
     "metadata": {},
     "output_type": "execute_result"
    }
   ],
   "source": [
    "first(df_customer[[occursin(r\"^[A-F]\", s) for s in df_customer[:,\"status_cd\"]], :], 10)"
   ]
  },
  {
   "cell_type": "markdown",
   "metadata": {},
   "source": [
    "---\n",
    "> P-014: 顧客データフレーム（df_customer）から、ステータスコード（status_cd）の末尾が数字の1〜9で終わるデータを全項目抽出し、10件だけ表示せよ。"
   ]
  },
  {
   "cell_type": "code",
   "execution_count": 125,
   "metadata": {},
   "outputs": [
    {
     "data": {
      "text/html": [
       "<table class=\"data-frame\"><thead><tr><th></th><th>customer_id</th><th>customer_name</th><th>gender_cd</th><th>gender</th><th>birth_day</th><th>age</th><th>postal_cd</th><th>address</th><th>application_store_cd</th><th>application_date</th><th>status_cd</th></tr><tr><th></th><th>String</th><th>String</th><th>Int64</th><th>String</th><th>Date</th><th>Int64</th><th>String</th><th>String</th><th>String</th><th>Int64</th><th>String</th></tr></thead><tbody><p>10 rows × 11 columns</p><tr><th>1</th><td>CS001215000145</td><td>田崎 美紀</td><td>1</td><td>女性</td><td>1995-03-29</td><td>24</td><td>144-0055</td><td>東京都大田区仲六郷**********</td><td>S13001</td><td>20170605</td><td>6-20090929-2</td></tr><tr><th>2</th><td>CS033513000180</td><td>安斎 遥</td><td>1</td><td>女性</td><td>1962-07-11</td><td>56</td><td>241-0823</td><td>神奈川県横浜市旭区善部町**********</td><td>S14033</td><td>20150728</td><td>6-20080506-5</td></tr><tr><th>3</th><td>CS011215000048</td><td>芦田 沙耶</td><td>1</td><td>女性</td><td>1992-02-01</td><td>27</td><td>223-0062</td><td>神奈川県横浜市港北区日吉本町**********</td><td>S14011</td><td>20150228</td><td>C-20100421-9</td></tr><tr><th>4</th><td>CS040412000191</td><td>川井 郁恵</td><td>1</td><td>女性</td><td>1977-01-05</td><td>42</td><td>226-0021</td><td>神奈川県横浜市緑区北八朔町**********</td><td>S14040</td><td>20151101</td><td>1-20091025-4</td></tr><tr><th>5</th><td>CS009315000023</td><td>皆川 文世</td><td>1</td><td>女性</td><td>1980-04-15</td><td>38</td><td>154-0012</td><td>東京都世田谷区駒沢**********</td><td>S13009</td><td>20150319</td><td>5-20080322-1</td></tr><tr><th>6</th><td>CS015315000033</td><td>福士 璃奈子</td><td>1</td><td>女性</td><td>1983-03-17</td><td>36</td><td>135-0043</td><td>東京都江東区塩浜**********</td><td>S13015</td><td>20141024</td><td>4-20080219-3</td></tr><tr><th>7</th><td>CS023513000066</td><td>神戸 そら</td><td>1</td><td>女性</td><td>1961-12-17</td><td>57</td><td>210-0005</td><td>神奈川県川崎市川崎区東田町**********</td><td>S14023</td><td>20150915</td><td>5-20100524-9</td></tr><tr><th>8</th><td>CS035513000134</td><td>市川 美帆</td><td>1</td><td>女性</td><td>1960-03-27</td><td>59</td><td>156-0053</td><td>東京都世田谷区桜**********</td><td>S13035</td><td>20150227</td><td>8-20100711-9</td></tr><tr><th>9</th><td>CS001515000263</td><td>高松 夏空</td><td>1</td><td>女性</td><td>1962-11-09</td><td>56</td><td>144-0051</td><td>東京都大田区西蒲田**********</td><td>S13001</td><td>20160812</td><td>1-20100804-1</td></tr><tr><th>10</th><td>CS040314000027</td><td>鶴田 きみまろ</td><td>9</td><td>不明</td><td>1986-03-26</td><td>33</td><td>226-0027</td><td>神奈川県横浜市緑区長津田**********</td><td>S14040</td><td>20150122</td><td>2-20080426-4</td></tr></tbody></table>"
      ],
      "text/latex": [
       "\\begin{tabular}{r|ccccccccccc}\n",
       "\t& customer\\_id & customer\\_name & gender\\_cd & gender & birth\\_day & age & postal\\_cd & address & application\\_store\\_cd & application\\_date & status\\_cd\\\\\n",
       "\t\\hline\n",
       "\t& String & String & Int64 & String & Date & Int64 & String & String & String & Int64 & String\\\\\n",
       "\t\\hline\n",
       "\t1 & CS001215000145 & 田崎 美紀 & 1 & 女性 & 1995-03-29 & 24 & 144-0055 & 東京都大田区仲六郷********** & S13001 & 20170605 & 6-20090929-2 \\\\\n",
       "\t2 & CS033513000180 & 安斎 遥 & 1 & 女性 & 1962-07-11 & 56 & 241-0823 & 神奈川県横浜市旭区善部町********** & S14033 & 20150728 & 6-20080506-5 \\\\\n",
       "\t3 & CS011215000048 & 芦田 沙耶 & 1 & 女性 & 1992-02-01 & 27 & 223-0062 & 神奈川県横浜市港北区日吉本町********** & S14011 & 20150228 & C-20100421-9 \\\\\n",
       "\t4 & CS040412000191 & 川井 郁恵 & 1 & 女性 & 1977-01-05 & 42 & 226-0021 & 神奈川県横浜市緑区北八朔町********** & S14040 & 20151101 & 1-20091025-4 \\\\\n",
       "\t5 & CS009315000023 & 皆川 文世 & 1 & 女性 & 1980-04-15 & 38 & 154-0012 & 東京都世田谷区駒沢********** & S13009 & 20150319 & 5-20080322-1 \\\\\n",
       "\t6 & CS015315000033 & 福士 璃奈子 & 1 & 女性 & 1983-03-17 & 36 & 135-0043 & 東京都江東区塩浜********** & S13015 & 20141024 & 4-20080219-3 \\\\\n",
       "\t7 & CS023513000066 & 神戸 そら & 1 & 女性 & 1961-12-17 & 57 & 210-0005 & 神奈川県川崎市川崎区東田町********** & S14023 & 20150915 & 5-20100524-9 \\\\\n",
       "\t8 & CS035513000134 & 市川 美帆 & 1 & 女性 & 1960-03-27 & 59 & 156-0053 & 東京都世田谷区桜********** & S13035 & 20150227 & 8-20100711-9 \\\\\n",
       "\t9 & CS001515000263 & 高松 夏空 & 1 & 女性 & 1962-11-09 & 56 & 144-0051 & 東京都大田区西蒲田********** & S13001 & 20160812 & 1-20100804-1 \\\\\n",
       "\t10 & CS040314000027 & 鶴田 きみまろ & 9 & 不明 & 1986-03-26 & 33 & 226-0027 & 神奈川県横浜市緑区長津田********** & S14040 & 20150122 & 2-20080426-4 \\\\\n",
       "\\end{tabular}\n"
      ],
      "text/plain": [
       "10×11 DataFrame\n"
      ]
     },
     "execution_count": 125,
     "metadata": {},
     "output_type": "execute_result"
    }
   ],
   "source": [
    "first(df_customer[[occursin(r\"[1-9]$\", s) for s in df_customer[:,\"status_cd\"]], :], 10)\n"
   ]
  },
  {
   "cell_type": "markdown",
   "metadata": {},
   "source": [
    "---\n",
    "> P-015: 顧客データフレーム（df_customer）から、ステータスコード（status_cd）の先頭がアルファベットのA〜Fで始まり、末尾が数字の1〜9で終わるデータを全項目抽出し、10件だけ表示せよ。"
   ]
  },
  {
   "cell_type": "code",
   "execution_count": 126,
   "metadata": {},
   "outputs": [
    {
     "data": {
      "text/html": [
       "<table class=\"data-frame\"><thead><tr><th></th><th>customer_id</th><th>customer_name</th><th>gender_cd</th><th>gender</th><th>birth_day</th><th>age</th><th>postal_cd</th><th>address</th><th>application_store_cd</th><th>application_date</th><th>status_cd</th></tr><tr><th></th><th>String</th><th>String</th><th>Int64</th><th>String</th><th>Date</th><th>Int64</th><th>String</th><th>String</th><th>String</th><th>Int64</th><th>String</th></tr></thead><tbody><p>10 rows × 11 columns</p><tr><th>1</th><td>CS011215000048</td><td>芦田 沙耶</td><td>1</td><td>女性</td><td>1992-02-01</td><td>27</td><td>223-0062</td><td>神奈川県横浜市港北区日吉本町**********</td><td>S14011</td><td>20150228</td><td>C-20100421-9</td></tr><tr><th>2</th><td>CS022513000105</td><td>島村 貴美子</td><td>1</td><td>女性</td><td>1962-03-12</td><td>57</td><td>249-0002</td><td>神奈川県逗子市山の根**********</td><td>S14022</td><td>20150320</td><td>A-20091115-7</td></tr><tr><th>3</th><td>CS001515000096</td><td>水野 陽子</td><td>9</td><td>不明</td><td>1960-11-29</td><td>58</td><td>144-0053</td><td>東京都大田区蒲田本町**********</td><td>S13001</td><td>20150614</td><td>A-20100724-7</td></tr><tr><th>4</th><td>CS013615000053</td><td>西脇 季衣</td><td>1</td><td>女性</td><td>1953-10-18</td><td>65</td><td>261-0026</td><td>千葉県千葉市美浜区幕張西**********</td><td>S12013</td><td>20150128</td><td>B-20100329-6</td></tr><tr><th>5</th><td>CS020412000161</td><td>小宮 薫</td><td>1</td><td>女性</td><td>1974-05-21</td><td>44</td><td>174-0042</td><td>東京都板橋区東坂下**********</td><td>S13020</td><td>20150822</td><td>B-20081021-3</td></tr><tr><th>6</th><td>CS001215000097</td><td>竹中 あさみ</td><td>1</td><td>女性</td><td>1990-07-25</td><td>28</td><td>146-0095</td><td>東京都大田区多摩川**********</td><td>S13001</td><td>20170315</td><td>A-20100211-2</td></tr><tr><th>7</th><td>CS035212000007</td><td>内村 恵梨香</td><td>1</td><td>女性</td><td>1990-12-04</td><td>28</td><td>152-0023</td><td>東京都目黒区八雲**********</td><td>S13035</td><td>20151013</td><td>B-20101018-6</td></tr><tr><th>8</th><td>CS002515000386</td><td>野田 コウ</td><td>1</td><td>女性</td><td>1963-05-30</td><td>55</td><td>185-0013</td><td>東京都国分寺市西恋ケ窪**********</td><td>S13002</td><td>20160410</td><td>C-20100127-8</td></tr><tr><th>9</th><td>CS001615000372</td><td>稲垣 寿々花</td><td>1</td><td>女性</td><td>1956-10-29</td><td>62</td><td>144-0035</td><td>東京都大田区南蒲田**********</td><td>S13001</td><td>20170403</td><td>A-20100104-1</td></tr><tr><th>10</th><td>CS032512000121</td><td>松井 知世</td><td>1</td><td>女性</td><td>1962-09-04</td><td>56</td><td>210-0011</td><td>神奈川県川崎市川崎区富士見**********</td><td>S13032</td><td>20150727</td><td>A-20100103-5</td></tr></tbody></table>"
      ],
      "text/latex": [
       "\\begin{tabular}{r|ccccccccccc}\n",
       "\t& customer\\_id & customer\\_name & gender\\_cd & gender & birth\\_day & age & postal\\_cd & address & application\\_store\\_cd & application\\_date & status\\_cd\\\\\n",
       "\t\\hline\n",
       "\t& String & String & Int64 & String & Date & Int64 & String & String & String & Int64 & String\\\\\n",
       "\t\\hline\n",
       "\t1 & CS011215000048 & 芦田 沙耶 & 1 & 女性 & 1992-02-01 & 27 & 223-0062 & 神奈川県横浜市港北区日吉本町********** & S14011 & 20150228 & C-20100421-9 \\\\\n",
       "\t2 & CS022513000105 & 島村 貴美子 & 1 & 女性 & 1962-03-12 & 57 & 249-0002 & 神奈川県逗子市山の根********** & S14022 & 20150320 & A-20091115-7 \\\\\n",
       "\t3 & CS001515000096 & 水野 陽子 & 9 & 不明 & 1960-11-29 & 58 & 144-0053 & 東京都大田区蒲田本町********** & S13001 & 20150614 & A-20100724-7 \\\\\n",
       "\t4 & CS013615000053 & 西脇 季衣 & 1 & 女性 & 1953-10-18 & 65 & 261-0026 & 千葉県千葉市美浜区幕張西********** & S12013 & 20150128 & B-20100329-6 \\\\\n",
       "\t5 & CS020412000161 & 小宮 薫 & 1 & 女性 & 1974-05-21 & 44 & 174-0042 & 東京都板橋区東坂下********** & S13020 & 20150822 & B-20081021-3 \\\\\n",
       "\t6 & CS001215000097 & 竹中 あさみ & 1 & 女性 & 1990-07-25 & 28 & 146-0095 & 東京都大田区多摩川********** & S13001 & 20170315 & A-20100211-2 \\\\\n",
       "\t7 & CS035212000007 & 内村 恵梨香 & 1 & 女性 & 1990-12-04 & 28 & 152-0023 & 東京都目黒区八雲********** & S13035 & 20151013 & B-20101018-6 \\\\\n",
       "\t8 & CS002515000386 & 野田 コウ & 1 & 女性 & 1963-05-30 & 55 & 185-0013 & 東京都国分寺市西恋ケ窪********** & S13002 & 20160410 & C-20100127-8 \\\\\n",
       "\t9 & CS001615000372 & 稲垣 寿々花 & 1 & 女性 & 1956-10-29 & 62 & 144-0035 & 東京都大田区南蒲田********** & S13001 & 20170403 & A-20100104-1 \\\\\n",
       "\t10 & CS032512000121 & 松井 知世 & 1 & 女性 & 1962-09-04 & 56 & 210-0011 & 神奈川県川崎市川崎区富士見********** & S13032 & 20150727 & A-20100103-5 \\\\\n",
       "\\end{tabular}\n"
      ],
      "text/plain": [
       "10×11 DataFrame\n"
      ]
     },
     "execution_count": 126,
     "metadata": {},
     "output_type": "execute_result"
    }
   ],
   "source": [
    "first(df_customer[[occursin(r\"^[A-F].*[1-9]$\", s) for s in df_customer[:,\"status_cd\"]], :], 10)\n"
   ]
  },
  {
   "cell_type": "markdown",
   "metadata": {},
   "source": [
    "---\n",
    "> P-016: 店舗データフレーム（df_store）から、電話番号（tel_no）が3桁-3桁-4桁のデータを全項目表示せよ。"
   ]
  },
  {
   "cell_type": "code",
   "execution_count": 132,
   "metadata": {},
   "outputs": [
    {
     "data": {
      "text/html": [
       "<table class=\"data-frame\"><thead><tr><th></th><th>store_cd</th><th>store_name</th><th>prefecture_cd</th><th>prefecture</th><th>address</th><th>address_kana</th><th>tel_no</th><th>longitude</th><th>latitude</th><th>floor_area</th></tr><tr><th></th><th>String</th><th>String</th><th>Int64</th><th>String</th><th>String</th><th>String</th><th>String</th><th>Float64</th><th>Float64</th><th>Float64</th></tr></thead><tbody><p>34 rows × 10 columns</p><tr><th>1</th><td>S12014</td><td>千草台店</td><td>12</td><td>千葉県</td><td>千葉県千葉市稲毛区千草台一丁目</td><td>チバケンチバシイナゲクチグサダイイッチョウメ</td><td>043-123-4003</td><td>140.118</td><td>35.6356</td><td>1698.0</td></tr><tr><th>2</th><td>S13002</td><td>国分寺店</td><td>13</td><td>東京都</td><td>東京都国分寺市本多二丁目</td><td>トウキョウトコクブンジシホンダニチョウメ</td><td>042-123-4008</td><td>139.48</td><td>35.7057</td><td>1735.0</td></tr><tr><th>3</th><td>S14010</td><td>菊名店</td><td>14</td><td>神奈川県</td><td>神奈川県横浜市港北区菊名一丁目</td><td>カナガワケンヨコハマシコウホククキクナイッチョウメ</td><td>045-123-4032</td><td>139.633</td><td>35.5005</td><td>1732.0</td></tr><tr><th>4</th><td>S14033</td><td>阿久和店</td><td>14</td><td>神奈川県</td><td>神奈川県横浜市瀬谷区阿久和西一丁目</td><td>カナガワケンヨコハマシセヤクアクワニシイッチョウメ</td><td>045-123-4043</td><td>139.496</td><td>35.4592</td><td>1495.0</td></tr><tr><th>5</th><td>S14036</td><td>相模原中央店</td><td>14</td><td>神奈川県</td><td>神奈川県相模原市中央二丁目</td><td>カナガワケンサガミハラシチュウオウニチョウメ</td><td>042-123-4045</td><td>139.372</td><td>35.5733</td><td>1679.0</td></tr><tr><th>6</th><td>S14040</td><td>長津田店</td><td>14</td><td>神奈川県</td><td>神奈川県横浜市緑区長津田みなみ台五丁目</td><td>カナガワケンヨコハマシミドリクナガツタミナミダイゴチョウメ</td><td>045-123-4046</td><td>139.499</td><td>35.524</td><td>1548.0</td></tr><tr><th>7</th><td>S14050</td><td>阿久和西店</td><td>14</td><td>神奈川県</td><td>神奈川県横浜市瀬谷区阿久和西一丁目</td><td>カナガワケンヨコハマシセヤクアクワニシイッチョウメ</td><td>045-123-4053</td><td>139.496</td><td>35.4592</td><td>1830.0</td></tr><tr><th>8</th><td>S13052</td><td>森野店</td><td>13</td><td>東京都</td><td>東京都町田市森野三丁目</td><td>トウキョウトマチダシモリノサンチョウメ</td><td>042-123-4030</td><td>139.438</td><td>35.5529</td><td>1087.0</td></tr><tr><th>9</th><td>S14028</td><td>二ツ橋店</td><td>14</td><td>神奈川県</td><td>神奈川県横浜市瀬谷区二ツ橋町</td><td>カナガワケンヨコハマシセヤクフタツバシチョウ</td><td>045-123-4042</td><td>139.496</td><td>35.463</td><td>1574.0</td></tr><tr><th>10</th><td>S14012</td><td>本牧和田店</td><td>14</td><td>神奈川県</td><td>神奈川県横浜市中区本牧和田</td><td>カナガワケンヨコハマシナカクホンモクワダ</td><td>045-123-4034</td><td>139.658</td><td>35.4216</td><td>1341.0</td></tr><tr><th>&vellip;</th><td>&vellip;</td><td>&vellip;</td><td>&vellip;</td><td>&vellip;</td><td>&vellip;</td><td>&vellip;</td><td>&vellip;</td><td>&vellip;</td><td>&vellip;</td><td>&vellip;</td></tr></tbody></table>"
      ],
      "text/latex": [
       "\\begin{tabular}{r|cccccccccc}\n",
       "\t& store\\_cd & store\\_name & prefecture\\_cd & prefecture & address & address\\_kana & tel\\_no & longitude & latitude & floor\\_area\\\\\n",
       "\t\\hline\n",
       "\t& String & String & Int64 & String & String & String & String & Float64 & Float64 & Float64\\\\\n",
       "\t\\hline\n",
       "\t1 & S12014 & 千草台店 & 12 & 千葉県 & 千葉県千葉市稲毛区千草台一丁目 & チバケンチバシイナゲクチグサダイイッチョウメ & 043-123-4003 & 140.118 & 35.6356 & 1698.0 \\\\\n",
       "\t2 & S13002 & 国分寺店 & 13 & 東京都 & 東京都国分寺市本多二丁目 & トウキョウトコクブンジシホンダニチョウメ & 042-123-4008 & 139.48 & 35.7057 & 1735.0 \\\\\n",
       "\t3 & S14010 & 菊名店 & 14 & 神奈川県 & 神奈川県横浜市港北区菊名一丁目 & カナガワケンヨコハマシコウホククキクナイッチョウメ & 045-123-4032 & 139.633 & 35.5005 & 1732.0 \\\\\n",
       "\t4 & S14033 & 阿久和店 & 14 & 神奈川県 & 神奈川県横浜市瀬谷区阿久和西一丁目 & カナガワケンヨコハマシセヤクアクワニシイッチョウメ & 045-123-4043 & 139.496 & 35.4592 & 1495.0 \\\\\n",
       "\t5 & S14036 & 相模原中央店 & 14 & 神奈川県 & 神奈川県相模原市中央二丁目 & カナガワケンサガミハラシチュウオウニチョウメ & 042-123-4045 & 139.372 & 35.5733 & 1679.0 \\\\\n",
       "\t6 & S14040 & 長津田店 & 14 & 神奈川県 & 神奈川県横浜市緑区長津田みなみ台五丁目 & カナガワケンヨコハマシミドリクナガツタミナミダイゴチョウメ & 045-123-4046 & 139.499 & 35.524 & 1548.0 \\\\\n",
       "\t7 & S14050 & 阿久和西店 & 14 & 神奈川県 & 神奈川県横浜市瀬谷区阿久和西一丁目 & カナガワケンヨコハマシセヤクアクワニシイッチョウメ & 045-123-4053 & 139.496 & 35.4592 & 1830.0 \\\\\n",
       "\t8 & S13052 & 森野店 & 13 & 東京都 & 東京都町田市森野三丁目 & トウキョウトマチダシモリノサンチョウメ & 042-123-4030 & 139.438 & 35.5529 & 1087.0 \\\\\n",
       "\t9 & S14028 & 二ツ橋店 & 14 & 神奈川県 & 神奈川県横浜市瀬谷区二ツ橋町 & カナガワケンヨコハマシセヤクフタツバシチョウ & 045-123-4042 & 139.496 & 35.463 & 1574.0 \\\\\n",
       "\t10 & S14012 & 本牧和田店 & 14 & 神奈川県 & 神奈川県横浜市中区本牧和田 & カナガワケンヨコハマシナカクホンモクワダ & 045-123-4034 & 139.658 & 35.4216 & 1341.0 \\\\\n",
       "\t$\\dots$ & $\\dots$ & $\\dots$ & $\\dots$ & $\\dots$ & $\\dots$ & $\\dots$ & $\\dots$ & $\\dots$ & $\\dots$ & $\\dots$ \\\\\n",
       "\\end{tabular}\n"
      ],
      "text/plain": [
       "34×10 DataFrame\n"
      ]
     },
     "execution_count": 132,
     "metadata": {},
     "output_type": "execute_result"
    }
   ],
   "source": [
    "df_store[[occursin(r\"[0-9]{3}-[0-9]{3}-[0-9]{4}$\", s) for s in df_store[:,\"tel_no\"]], :]\n"
   ]
  },
  {
   "cell_type": "markdown",
   "metadata": {},
   "source": [
    "---\n",
    "> P-17: 顧客データフレーム（df_customer）を生年月日（birth_day）で高齢順にソートし、先頭10件を全項目表示せよ。"
   ]
  },
  {
   "cell_type": "code",
   "execution_count": 8,
   "metadata": {},
   "outputs": [
    {
     "data": {
      "text/html": [
       "<table class=\"data-frame\"><thead><tr><th></th><th>customer_id</th><th>customer_name</th><th>gender_cd</th><th>gender</th><th>birth_day</th><th>age</th><th>postal_cd</th><th>address</th><th>application_store_cd</th><th>application_date</th><th>status_cd</th></tr><tr><th></th><th>String</th><th>String</th><th>Int64</th><th>String</th><th>Date</th><th>Int64</th><th>String</th><th>String</th><th>String</th><th>Int64</th><th>String</th></tr></thead><tbody><p>10 rows × 11 columns</p><tr><th>1</th><td>CS003813000014</td><td>村山 菜々美</td><td>1</td><td>女性</td><td>1928-11-26</td><td>90</td><td>182-0007</td><td>東京都調布市菊野台**********</td><td>S13003</td><td>20160214</td><td>0-00000000-0</td></tr><tr><th>2</th><td>CS026813000004</td><td>吉村 朝陽</td><td>1</td><td>女性</td><td>1928-12-14</td><td>90</td><td>251-0043</td><td>神奈川県藤沢市辻堂元町**********</td><td>S14026</td><td>20150723</td><td>0-00000000-0</td></tr><tr><th>3</th><td>CS018811000003</td><td>熊沢 美里</td><td>1</td><td>女性</td><td>1929-01-07</td><td>90</td><td>204-0004</td><td>東京都清瀬市野塩**********</td><td>S13018</td><td>20150403</td><td>0-00000000-0</td></tr><tr><th>4</th><td>CS027803000004</td><td>内村 拓郎</td><td>0</td><td>男性</td><td>1929-01-12</td><td>90</td><td>251-0031</td><td>神奈川県藤沢市鵠沼藤が谷**********</td><td>S14027</td><td>20151227</td><td>0-00000000-0</td></tr><tr><th>5</th><td>CS013801000003</td><td>天野 拓郎</td><td>0</td><td>男性</td><td>1929-01-15</td><td>90</td><td>274-0824</td><td>千葉県船橋市前原東**********</td><td>S12013</td><td>20160120</td><td>0-00000000-0</td></tr><tr><th>6</th><td>CS001814000022</td><td>鶴田 里穂</td><td>1</td><td>女性</td><td>1929-01-28</td><td>90</td><td>144-0045</td><td>東京都大田区南六郷**********</td><td>S13001</td><td>20161012</td><td>A-20090415-7</td></tr><tr><th>7</th><td>CS016815000002</td><td>山元 美紀</td><td>1</td><td>女性</td><td>1929-02-22</td><td>90</td><td>184-0005</td><td>東京都小金井市桜町**********</td><td>S13016</td><td>20150629</td><td>C-20090923-C</td></tr><tr><th>8</th><td>CS009815000003</td><td>中田 里穂</td><td>1</td><td>女性</td><td>1929-04-08</td><td>89</td><td>154-0014</td><td>東京都世田谷区新町**********</td><td>S13009</td><td>20150421</td><td>D-20091021-E</td></tr><tr><th>9</th><td>CS012813000013</td><td>宇野 南朋</td><td>1</td><td>女性</td><td>1929-04-09</td><td>89</td><td>231-0806</td><td>神奈川県横浜市中区本牧町**********</td><td>S14012</td><td>20150712</td><td>0-00000000-0</td></tr><tr><th>10</th><td>CS005813000015</td><td>金谷 恵梨香</td><td>1</td><td>女性</td><td>1929-04-09</td><td>89</td><td>165-0032</td><td>東京都中野区鷺宮**********</td><td>S13005</td><td>20150506</td><td>0-00000000-0</td></tr></tbody></table>"
      ],
      "text/latex": [
       "\\begin{tabular}{r|ccccccccccc}\n",
       "\t& customer\\_id & customer\\_name & gender\\_cd & gender & birth\\_day & age & postal\\_cd & address & application\\_store\\_cd & application\\_date & status\\_cd\\\\\n",
       "\t\\hline\n",
       "\t& String & String & Int64 & String & Date & Int64 & String & String & String & Int64 & String\\\\\n",
       "\t\\hline\n",
       "\t1 & CS003813000014 & 村山 菜々美 & 1 & 女性 & 1928-11-26 & 90 & 182-0007 & 東京都調布市菊野台********** & S13003 & 20160214 & 0-00000000-0 \\\\\n",
       "\t2 & CS026813000004 & 吉村 朝陽 & 1 & 女性 & 1928-12-14 & 90 & 251-0043 & 神奈川県藤沢市辻堂元町********** & S14026 & 20150723 & 0-00000000-0 \\\\\n",
       "\t3 & CS018811000003 & 熊沢 美里 & 1 & 女性 & 1929-01-07 & 90 & 204-0004 & 東京都清瀬市野塩********** & S13018 & 20150403 & 0-00000000-0 \\\\\n",
       "\t4 & CS027803000004 & 内村 拓郎 & 0 & 男性 & 1929-01-12 & 90 & 251-0031 & 神奈川県藤沢市鵠沼藤が谷********** & S14027 & 20151227 & 0-00000000-0 \\\\\n",
       "\t5 & CS013801000003 & 天野 拓郎 & 0 & 男性 & 1929-01-15 & 90 & 274-0824 & 千葉県船橋市前原東********** & S12013 & 20160120 & 0-00000000-0 \\\\\n",
       "\t6 & CS001814000022 & 鶴田 里穂 & 1 & 女性 & 1929-01-28 & 90 & 144-0045 & 東京都大田区南六郷********** & S13001 & 20161012 & A-20090415-7 \\\\\n",
       "\t7 & CS016815000002 & 山元 美紀 & 1 & 女性 & 1929-02-22 & 90 & 184-0005 & 東京都小金井市桜町********** & S13016 & 20150629 & C-20090923-C \\\\\n",
       "\t8 & CS009815000003 & 中田 里穂 & 1 & 女性 & 1929-04-08 & 89 & 154-0014 & 東京都世田谷区新町********** & S13009 & 20150421 & D-20091021-E \\\\\n",
       "\t9 & CS012813000013 & 宇野 南朋 & 1 & 女性 & 1929-04-09 & 89 & 231-0806 & 神奈川県横浜市中区本牧町********** & S14012 & 20150712 & 0-00000000-0 \\\\\n",
       "\t10 & CS005813000015 & 金谷 恵梨香 & 1 & 女性 & 1929-04-09 & 89 & 165-0032 & 東京都中野区鷺宮********** & S13005 & 20150506 & 0-00000000-0 \\\\\n",
       "\\end{tabular}\n"
      ],
      "text/plain": [
       "10×11 DataFrame\n"
      ]
     },
     "execution_count": 8,
     "metadata": {},
     "output_type": "execute_result"
    }
   ],
   "source": [
    "first(sort(df_customer, \"birth_day\"),10)\n"
   ]
  },
  {
   "cell_type": "markdown",
   "metadata": {},
   "source": [
    "---\n",
    "> P-18: 顧客データフレーム（df_customer）を生年月日（birth_day）で若い順にソートし、先頭10件を全項目表示せよ。"
   ]
  },
  {
   "cell_type": "code",
   "execution_count": 10,
   "metadata": {},
   "outputs": [
    {
     "data": {
      "text/html": [
       "<table class=\"data-frame\"><thead><tr><th></th><th>customer_id</th><th>customer_name</th><th>gender_cd</th><th>gender</th><th>birth_day</th><th>age</th><th>postal_cd</th><th>address</th><th>application_store_cd</th><th>application_date</th><th>status_cd</th></tr><tr><th></th><th>String</th><th>String</th><th>Int64</th><th>String</th><th>Date</th><th>Int64</th><th>String</th><th>String</th><th>String</th><th>Int64</th><th>String</th></tr></thead><tbody><p>10 rows × 11 columns</p><tr><th>1</th><td>CS035114000004</td><td>大村 美里</td><td>1</td><td>女性</td><td>2007-11-25</td><td>11</td><td>156-0053</td><td>東京都世田谷区桜**********</td><td>S13035</td><td>20150619</td><td>6-20091205-6</td></tr><tr><th>2</th><td>CS022103000002</td><td>福山 はじめ</td><td>9</td><td>不明</td><td>2007-10-02</td><td>11</td><td>249-0006</td><td>神奈川県逗子市逗子**********</td><td>S14022</td><td>20160909</td><td>0-00000000-0</td></tr><tr><th>3</th><td>CS002113000009</td><td>柴田 真悠子</td><td>1</td><td>女性</td><td>2007-09-17</td><td>11</td><td>184-0014</td><td>東京都小金井市貫井南町**********</td><td>S13002</td><td>20160304</td><td>0-00000000-0</td></tr><tr><th>4</th><td>CS004115000014</td><td>松井 京子</td><td>1</td><td>女性</td><td>2007-08-09</td><td>11</td><td>165-0031</td><td>東京都中野区上鷺宮**********</td><td>S13004</td><td>20161120</td><td>1-20081231-1</td></tr><tr><th>5</th><td>CS002114000010</td><td>山内 遥</td><td>1</td><td>女性</td><td>2007-06-03</td><td>11</td><td>184-0015</td><td>東京都小金井市貫井北町**********</td><td>S13002</td><td>20160920</td><td>6-20100510-1</td></tr><tr><th>6</th><td>CS025115000002</td><td>小柳 夏希</td><td>1</td><td>女性</td><td>2007-04-18</td><td>11</td><td>245-0018</td><td>神奈川県横浜市泉区上飯田町**********</td><td>S14025</td><td>20160116</td><td>D-20100913-D</td></tr><tr><th>7</th><td>CS002113000025</td><td>広末 まなみ</td><td>1</td><td>女性</td><td>2007-03-30</td><td>12</td><td>184-0015</td><td>東京都小金井市貫井北町**********</td><td>S13002</td><td>20171030</td><td>0-00000000-0</td></tr><tr><th>8</th><td>CS033112000003</td><td>長野 美紀</td><td>1</td><td>女性</td><td>2007-03-22</td><td>12</td><td>245-0051</td><td>神奈川県横浜市戸塚区名瀬町**********</td><td>S14033</td><td>20150606</td><td>0-00000000-0</td></tr><tr><th>9</th><td>CS007115000006</td><td>福岡 瞬</td><td>1</td><td>女性</td><td>2007-03-10</td><td>12</td><td>285-0845</td><td>千葉県佐倉市西志津**********</td><td>S12007</td><td>20151118</td><td>F-20101016-F</td></tr><tr><th>10</th><td>CS014113000008</td><td>矢口 莉緒</td><td>1</td><td>女性</td><td>2007-03-05</td><td>12</td><td>260-0041</td><td>千葉県千葉市中央区東千葉**********</td><td>S12014</td><td>20150622</td><td>3-20091108-6</td></tr></tbody></table>"
      ],
      "text/latex": [
       "\\begin{tabular}{r|ccccccccccc}\n",
       "\t& customer\\_id & customer\\_name & gender\\_cd & gender & birth\\_day & age & postal\\_cd & address & application\\_store\\_cd & application\\_date & status\\_cd\\\\\n",
       "\t\\hline\n",
       "\t& String & String & Int64 & String & Date & Int64 & String & String & String & Int64 & String\\\\\n",
       "\t\\hline\n",
       "\t1 & CS035114000004 & 大村 美里 & 1 & 女性 & 2007-11-25 & 11 & 156-0053 & 東京都世田谷区桜********** & S13035 & 20150619 & 6-20091205-6 \\\\\n",
       "\t2 & CS022103000002 & 福山 はじめ & 9 & 不明 & 2007-10-02 & 11 & 249-0006 & 神奈川県逗子市逗子********** & S14022 & 20160909 & 0-00000000-0 \\\\\n",
       "\t3 & CS002113000009 & 柴田 真悠子 & 1 & 女性 & 2007-09-17 & 11 & 184-0014 & 東京都小金井市貫井南町********** & S13002 & 20160304 & 0-00000000-0 \\\\\n",
       "\t4 & CS004115000014 & 松井 京子 & 1 & 女性 & 2007-08-09 & 11 & 165-0031 & 東京都中野区上鷺宮********** & S13004 & 20161120 & 1-20081231-1 \\\\\n",
       "\t5 & CS002114000010 & 山内 遥 & 1 & 女性 & 2007-06-03 & 11 & 184-0015 & 東京都小金井市貫井北町********** & S13002 & 20160920 & 6-20100510-1 \\\\\n",
       "\t6 & CS025115000002 & 小柳 夏希 & 1 & 女性 & 2007-04-18 & 11 & 245-0018 & 神奈川県横浜市泉区上飯田町********** & S14025 & 20160116 & D-20100913-D \\\\\n",
       "\t7 & CS002113000025 & 広末 まなみ & 1 & 女性 & 2007-03-30 & 12 & 184-0015 & 東京都小金井市貫井北町********** & S13002 & 20171030 & 0-00000000-0 \\\\\n",
       "\t8 & CS033112000003 & 長野 美紀 & 1 & 女性 & 2007-03-22 & 12 & 245-0051 & 神奈川県横浜市戸塚区名瀬町********** & S14033 & 20150606 & 0-00000000-0 \\\\\n",
       "\t9 & CS007115000006 & 福岡 瞬 & 1 & 女性 & 2007-03-10 & 12 & 285-0845 & 千葉県佐倉市西志津********** & S12007 & 20151118 & F-20101016-F \\\\\n",
       "\t10 & CS014113000008 & 矢口 莉緒 & 1 & 女性 & 2007-03-05 & 12 & 260-0041 & 千葉県千葉市中央区東千葉********** & S12014 & 20150622 & 3-20091108-6 \\\\\n",
       "\\end{tabular}\n"
      ],
      "text/plain": [
       "10×11 DataFrame\n"
      ]
     },
     "execution_count": 10,
     "metadata": {},
     "output_type": "execute_result"
    }
   ],
   "source": [
    "first(sort(df_customer, \"birth_day\", rev=true), 10)\n"
   ]
  },
  {
   "cell_type": "markdown",
   "metadata": {},
   "source": [
    "---\n",
    "> P-19: レシート明細データフレーム（df_receipt）に対し、1件あたりの売上金額（amount）が高い順にランクを付与し、先頭10件を抽出せよ。項目は顧客ID（customer_id）、売上金額（amount）、付与したランクを表示させること。なお、売上金額（amount）が等しい場合は同一順位を付与するものとする。"
   ]
  },
  {
   "cell_type": "code",
   "execution_count": 17,
   "metadata": {},
   "outputs": [
    {
     "data": {
      "text/plain": [
       "104681-element Array{Int64,1}:\n",
       "      1\n",
       "      2\n",
       "      3\n",
       "      ⋮\n",
       " 104512\n",
       " 104512"
      ]
     },
     "execution_count": 17,
     "metadata": {},
     "output_type": "execute_result"
    }
   ],
   "source": [
    "#sort(ordinalrank(df_receipt[:,\"amount\"], rev=false))\n",
    "sort()\n"
   ]
  },
  {
   "cell_type": "code",
   "execution_count": 26,
   "metadata": {},
   "outputs": [
    {
     "data": {
      "text/html": [
       "<table class=\"data-frame\"><thead><tr><th></th><th>sales_ymd</th><th>sales_epoch</th><th>store_cd</th><th>receipt_no</th><th>receipt_sub_no</th><th>customer_id</th><th>product_cd</th><th>quantity</th><th>amount</th><th>rank</th></tr><tr><th></th><th>Int64</th><th>Int64</th><th>String</th><th>Int64</th><th>Int64</th><th>String</th><th>String</th><th>Int64</th><th>Int64</th><th>Int64</th></tr></thead><tbody><p>10 rows × 10 columns</p><tr><th>1</th><td>20190903</td><td>1283472000</td><td>S14011</td><td>1192</td><td>2</td><td>CS011415000006</td><td>P080104055</td><td>1</td><td>10925</td><td>1</td></tr><tr><th>2</th><td>20190304</td><td>1267660800</td><td>S14046</td><td>1152</td><td>2</td><td>ZZ000000000000</td><td>P090302118</td><td>1</td><td>6800</td><td>2</td></tr><tr><th>3</th><td>20170921</td><td>1221955200</td><td>S14028</td><td>1192</td><td>2</td><td>CS028605000002</td><td>P090907210</td><td>1</td><td>5780</td><td>3</td></tr><tr><th>4</th><td>20170721</td><td>1216598400</td><td>S13015</td><td>1112</td><td>1</td><td>CS015515000034</td><td>P090907208</td><td>1</td><td>5480</td><td>4</td></tr><tr><th>5</th><td>20190103</td><td>1262476800</td><td>S14021</td><td>1162</td><td>2</td><td>ZZ000000000000</td><td>P090907208</td><td>1</td><td>5480</td><td>4</td></tr><tr><th>6</th><td>20190724</td><td>1279929600</td><td>S13009</td><td>1192</td><td>2</td><td>ZZ000000000000</td><td>P090907209</td><td>1</td><td>5480</td><td>4</td></tr><tr><th>7</th><td>20180621</td><td>1245542400</td><td>S13004</td><td>1172</td><td>2</td><td>ZZ000000000000</td><td>P090907206</td><td>1</td><td>5440</td><td>7</td></tr><tr><th>8</th><td>20190209</td><td>1265673600</td><td>S14021</td><td>1142</td><td>2</td><td>CS021515000089</td><td>P090907206</td><td>1</td><td>5440</td><td>7</td></tr><tr><th>9</th><td>20181219</td><td>1261180800</td><td>S13015</td><td>1132</td><td>1</td><td>CS015515000083</td><td>P071301009</td><td>1</td><td>5280</td><td>9</td></tr><tr><th>10</th><td>20180603</td><td>1243987200</td><td>S13017</td><td>1192</td><td>1</td><td>CS017414000114</td><td>P071301009</td><td>1</td><td>5280</td><td>9</td></tr></tbody></table>"
      ],
      "text/latex": [
       "\\begin{tabular}{r|cccccccccc}\n",
       "\t& sales\\_ymd & sales\\_epoch & store\\_cd & receipt\\_no & receipt\\_sub\\_no & customer\\_id & product\\_cd & quantity & amount & rank\\\\\n",
       "\t\\hline\n",
       "\t& Int64 & Int64 & String & Int64 & Int64 & String & String & Int64 & Int64 & Int64\\\\\n",
       "\t\\hline\n",
       "\t1 & 20190903 & 1283472000 & S14011 & 1192 & 2 & CS011415000006 & P080104055 & 1 & 10925 & 1 \\\\\n",
       "\t2 & 20190304 & 1267660800 & S14046 & 1152 & 2 & ZZ000000000000 & P090302118 & 1 & 6800 & 2 \\\\\n",
       "\t3 & 20170921 & 1221955200 & S14028 & 1192 & 2 & CS028605000002 & P090907210 & 1 & 5780 & 3 \\\\\n",
       "\t4 & 20170721 & 1216598400 & S13015 & 1112 & 1 & CS015515000034 & P090907208 & 1 & 5480 & 4 \\\\\n",
       "\t5 & 20190103 & 1262476800 & S14021 & 1162 & 2 & ZZ000000000000 & P090907208 & 1 & 5480 & 4 \\\\\n",
       "\t6 & 20190724 & 1279929600 & S13009 & 1192 & 2 & ZZ000000000000 & P090907209 & 1 & 5480 & 4 \\\\\n",
       "\t7 & 20180621 & 1245542400 & S13004 & 1172 & 2 & ZZ000000000000 & P090907206 & 1 & 5440 & 7 \\\\\n",
       "\t8 & 20190209 & 1265673600 & S14021 & 1142 & 2 & CS021515000089 & P090907206 & 1 & 5440 & 7 \\\\\n",
       "\t9 & 20181219 & 1261180800 & S13015 & 1132 & 1 & CS015515000083 & P071301009 & 1 & 5280 & 9 \\\\\n",
       "\t10 & 20180603 & 1243987200 & S13017 & 1192 & 1 & CS017414000114 & P071301009 & 1 & 5280 & 9 \\\\\n",
       "\\end{tabular}\n"
      ],
      "text/plain": [
       "10×10 DataFrame\n"
      ]
     },
     "execution_count": 26,
     "metadata": {},
     "output_type": "execute_result"
    }
   ],
   "source": [
    "first(\n",
    "    sort(rename(hcat(df_receipt, competerank(df_receipt[:,\"amount\"], rev=true)),\"x1\"=>\"rank\"), \"amount\", rev=true)\n",
    ", 10)\n"
   ]
  },
  {
   "cell_type": "code",
   "execution_count": 55,
   "metadata": {},
   "outputs": [
    {
     "data": {
      "text/html": [
       "<table class=\"data-frame\"><thead><tr><th></th><th>customer_id</th><th>amount</th><th>rank</th></tr><tr><th></th><th>String</th><th>Int64</th><th>Int64</th></tr></thead><tbody><p>10 rows × 3 columns</p><tr><th>1</th><td>CS011415000006</td><td>10925</td><td>1</td></tr><tr><th>2</th><td>ZZ000000000000</td><td>6800</td><td>2</td></tr><tr><th>3</th><td>CS028605000002</td><td>5780</td><td>3</td></tr><tr><th>4</th><td>CS015515000034</td><td>5480</td><td>4</td></tr><tr><th>5</th><td>ZZ000000000000</td><td>5480</td><td>4</td></tr><tr><th>6</th><td>ZZ000000000000</td><td>5480</td><td>4</td></tr><tr><th>7</th><td>ZZ000000000000</td><td>5440</td><td>7</td></tr><tr><th>8</th><td>CS021515000089</td><td>5440</td><td>7</td></tr><tr><th>9</th><td>CS015515000083</td><td>5280</td><td>9</td></tr><tr><th>10</th><td>CS017414000114</td><td>5280</td><td>9</td></tr></tbody></table>"
      ],
      "text/latex": [
       "\\begin{tabular}{r|ccc}\n",
       "\t& customer\\_id & amount & rank\\\\\n",
       "\t\\hline\n",
       "\t& String & Int64 & Int64\\\\\n",
       "\t\\hline\n",
       "\t1 & CS011415000006 & 10925 & 1 \\\\\n",
       "\t2 & ZZ000000000000 & 6800 & 2 \\\\\n",
       "\t3 & CS028605000002 & 5780 & 3 \\\\\n",
       "\t4 & CS015515000034 & 5480 & 4 \\\\\n",
       "\t5 & ZZ000000000000 & 5480 & 4 \\\\\n",
       "\t6 & ZZ000000000000 & 5480 & 4 \\\\\n",
       "\t7 & ZZ000000000000 & 5440 & 7 \\\\\n",
       "\t8 & CS021515000089 & 5440 & 7 \\\\\n",
       "\t9 & CS015515000083 & 5280 & 9 \\\\\n",
       "\t10 & CS017414000114 & 5280 & 9 \\\\\n",
       "\\end{tabular}\n"
      ],
      "text/plain": [
       "10×3 DataFrame\n"
      ]
     },
     "execution_count": 55,
     "metadata": {},
     "output_type": "execute_result"
    }
   ],
   "source": [
    "# 別解 関数の入れ子が辛くなってきたので\n",
    "@linq df_receipt |>\n",
    "    sort(order(:amount, rev=true)) |>\n",
    "    transform(rank=competerank(:amount, rev=true)) |>\n",
    "    select(:customer_id, :amount, :rank) |>\n",
    "    first(10)"
   ]
  },
  {
   "cell_type": "markdown",
   "metadata": {},
   "source": [
    "---\n",
    "> P-020: レシート明細データフレーム（df_receipt）に対し、1件あたりの売上金額（amount）が高い順にランクを付与し、先頭10件を抽出せよ。項目は顧客ID（customer_id）、売上金額（amount）、付与したランクを表示させること。なお、売上金額（amount）が等しい場合でも別順位を付与すること。"
   ]
  },
  {
   "cell_type": "code",
   "execution_count": 61,
   "metadata": {},
   "outputs": [
    {
     "data": {
      "text/html": [
       "<table class=\"data-frame\"><thead><tr><th></th><th>customer_id</th><th>amount</th><th>rank</th></tr><tr><th></th><th>String</th><th>Int64</th><th>Int64</th></tr></thead><tbody><p>10 rows × 3 columns</p><tr><th>1</th><td>CS011415000006</td><td>10925</td><td>1</td></tr><tr><th>2</th><td>ZZ000000000000</td><td>6800</td><td>2</td></tr><tr><th>3</th><td>CS028605000002</td><td>5780</td><td>3</td></tr><tr><th>4</th><td>CS015515000034</td><td>5480</td><td>4</td></tr><tr><th>5</th><td>ZZ000000000000</td><td>5480</td><td>5</td></tr><tr><th>6</th><td>ZZ000000000000</td><td>5480</td><td>6</td></tr><tr><th>7</th><td>ZZ000000000000</td><td>5440</td><td>7</td></tr><tr><th>8</th><td>CS021515000089</td><td>5440</td><td>8</td></tr><tr><th>9</th><td>CS015515000083</td><td>5280</td><td>9</td></tr><tr><th>10</th><td>CS017414000114</td><td>5280</td><td>10</td></tr></tbody></table>"
      ],
      "text/latex": [
       "\\begin{tabular}{r|ccc}\n",
       "\t& customer\\_id & amount & rank\\\\\n",
       "\t\\hline\n",
       "\t& String & Int64 & Int64\\\\\n",
       "\t\\hline\n",
       "\t1 & CS011415000006 & 10925 & 1 \\\\\n",
       "\t2 & ZZ000000000000 & 6800 & 2 \\\\\n",
       "\t3 & CS028605000002 & 5780 & 3 \\\\\n",
       "\t4 & CS015515000034 & 5480 & 4 \\\\\n",
       "\t5 & ZZ000000000000 & 5480 & 5 \\\\\n",
       "\t6 & ZZ000000000000 & 5480 & 6 \\\\\n",
       "\t7 & ZZ000000000000 & 5440 & 7 \\\\\n",
       "\t8 & CS021515000089 & 5440 & 8 \\\\\n",
       "\t9 & CS015515000083 & 5280 & 9 \\\\\n",
       "\t10 & CS017414000114 & 5280 & 10 \\\\\n",
       "\\end{tabular}\n"
      ],
      "text/plain": [
       "10×3 DataFrame\n"
      ]
     },
     "execution_count": 61,
     "metadata": {},
     "output_type": "execute_result"
    }
   ],
   "source": [
    "@linq df_receipt |>\n",
    "    sort(order(:amount, rev=true)) |>\n",
    "    transform(rank=ordinalrank(:amount, rev=true)) |>\n",
    "    select(:customer_id, :amount, :rank) |>\n",
    "    first(10)"
   ]
  },
  {
   "cell_type": "markdown",
   "metadata": {},
   "source": [
    "---\n",
    "> P-021: レシート明細データフレーム（df_receipt）に対し、件数をカウントせよ。"
   ]
  },
  {
   "cell_type": "code",
   "execution_count": 97,
   "metadata": {},
   "outputs": [
    {
     "data": {
      "text/plain": [
       "104681"
      ]
     },
     "execution_count": 97,
     "metadata": {},
     "output_type": "execute_result"
    }
   ],
   "source": [
    "length(df_receipt.customer_id)"
   ]
  },
  {
   "cell_type": "code",
   "execution_count": 98,
   "metadata": {},
   "outputs": [
    {
     "data": {
      "text/plain": [
       "104681"
      ]
     },
     "execution_count": 98,
     "metadata": {},
     "output_type": "execute_result"
    }
   ],
   "source": [
    "nrow(df_receipt)"
   ]
  },
  {
   "cell_type": "markdown",
   "metadata": {},
   "source": [
    "---\n",
    "> P-022: レシート明細データフレーム（df_receipt）の顧客ID（customer_id）に対し、ユニーク件数をカウントせよ。"
   ]
  },
  {
   "cell_type": "code",
   "execution_count": 96,
   "metadata": {},
   "outputs": [
    {
     "data": {
      "text/plain": [
       "8307"
      ]
     },
     "execution_count": 96,
     "metadata": {},
     "output_type": "execute_result"
    }
   ],
   "source": [
    "length(unique(df_receipt.customer_id))"
   ]
  },
  {
   "cell_type": "code",
   "execution_count": null,
   "metadata": {},
   "outputs": [],
   "source": [
    "nrow(df_receipt)"
   ]
  },
  {
   "cell_type": "markdown",
   "metadata": {},
   "source": [
    "---\n",
    "> P-023: レシート明細データフレーム（df_receipt）に対し、店舗コード（store_cd）ごとに売上金額（amount）と売上数量（quantity）を合計せよ。"
   ]
  },
  {
   "cell_type": "code",
   "execution_count": 104,
   "metadata": {},
   "outputs": [
    {
     "data": {
      "text/html": [
       "<table class=\"data-frame\"><thead><tr><th></th><th>store_cd</th><th>amount_sum</th><th>quantity_sum</th></tr><tr><th></th><th>String</th><th>Int64</th><th>Int64</th></tr></thead><tbody><p>52 rows × 3 columns</p><tr><th>1</th><td>S12007</td><td>638761</td><td>2099</td></tr><tr><th>2</th><td>S12013</td><td>787513</td><td>2425</td></tr><tr><th>3</th><td>S12014</td><td>725167</td><td>2358</td></tr><tr><th>4</th><td>S12029</td><td>794741</td><td>2555</td></tr><tr><th>5</th><td>S12030</td><td>684402</td><td>2403</td></tr><tr><th>6</th><td>S13001</td><td>811936</td><td>2347</td></tr><tr><th>7</th><td>S13002</td><td>727821</td><td>2340</td></tr><tr><th>8</th><td>S13003</td><td>764294</td><td>2197</td></tr><tr><th>9</th><td>S13004</td><td>779373</td><td>2390</td></tr><tr><th>10</th><td>S13005</td><td>629876</td><td>2004</td></tr><tr><th>&vellip;</th><td>&vellip;</td><td>&vellip;</td><td>&vellip;</td></tr></tbody></table>"
      ],
      "text/latex": [
       "\\begin{tabular}{r|ccc}\n",
       "\t& store\\_cd & amount\\_sum & quantity\\_sum\\\\\n",
       "\t\\hline\n",
       "\t& String & Int64 & Int64\\\\\n",
       "\t\\hline\n",
       "\t1 & S12007 & 638761 & 2099 \\\\\n",
       "\t2 & S12013 & 787513 & 2425 \\\\\n",
       "\t3 & S12014 & 725167 & 2358 \\\\\n",
       "\t4 & S12029 & 794741 & 2555 \\\\\n",
       "\t5 & S12030 & 684402 & 2403 \\\\\n",
       "\t6 & S13001 & 811936 & 2347 \\\\\n",
       "\t7 & S13002 & 727821 & 2340 \\\\\n",
       "\t8 & S13003 & 764294 & 2197 \\\\\n",
       "\t9 & S13004 & 779373 & 2390 \\\\\n",
       "\t10 & S13005 & 629876 & 2004 \\\\\n",
       "\t$\\dots$ & $\\dots$ & $\\dots$ & $\\dots$ \\\\\n",
       "\\end{tabular}\n"
      ],
      "text/plain": [
       "52×3 DataFrame\n"
      ]
     },
     "execution_count": 104,
     "metadata": {},
     "output_type": "execute_result"
    }
   ],
   "source": [
    "@linq df_receipt |>\n",
    "    select(:store_cd, :amount, :quantity) |>\n",
    "    groupby(:store_cd) |>\n",
    "    combine(:amount => sum, :quantity => sum) |>\n",
    "    orderby(:store_cd)"
   ]
  },
  {
   "cell_type": "code",
   "execution_count": 107,
   "metadata": {},
   "outputs": [
    {
     "data": {
      "text/html": [
       "<table class=\"data-frame\"><thead><tr><th></th><th>store_cd</th><th>sum_amount</th><th>sum_quantity</th></tr><tr><th></th><th>String</th><th>Int64</th><th>Int64</th></tr></thead><tbody><p>52 rows × 3 columns</p><tr><th>1</th><td>S12007</td><td>638761</td><td>2099</td></tr><tr><th>2</th><td>S12013</td><td>787513</td><td>2425</td></tr><tr><th>3</th><td>S12014</td><td>725167</td><td>2358</td></tr><tr><th>4</th><td>S12029</td><td>794741</td><td>2555</td></tr><tr><th>5</th><td>S12030</td><td>684402</td><td>2403</td></tr><tr><th>6</th><td>S13001</td><td>811936</td><td>2347</td></tr><tr><th>7</th><td>S13002</td><td>727821</td><td>2340</td></tr><tr><th>8</th><td>S13003</td><td>764294</td><td>2197</td></tr><tr><th>9</th><td>S13004</td><td>779373</td><td>2390</td></tr><tr><th>10</th><td>S13005</td><td>629876</td><td>2004</td></tr><tr><th>&vellip;</th><td>&vellip;</td><td>&vellip;</td><td>&vellip;</td></tr></tbody></table>"
      ],
      "text/latex": [
       "\\begin{tabular}{r|ccc}\n",
       "\t& store\\_cd & sum\\_amount & sum\\_quantity\\\\\n",
       "\t\\hline\n",
       "\t& String & Int64 & Int64\\\\\n",
       "\t\\hline\n",
       "\t1 & S12007 & 638761 & 2099 \\\\\n",
       "\t2 & S12013 & 787513 & 2425 \\\\\n",
       "\t3 & S12014 & 725167 & 2358 \\\\\n",
       "\t4 & S12029 & 794741 & 2555 \\\\\n",
       "\t5 & S12030 & 684402 & 2403 \\\\\n",
       "\t6 & S13001 & 811936 & 2347 \\\\\n",
       "\t7 & S13002 & 727821 & 2340 \\\\\n",
       "\t8 & S13003 & 764294 & 2197 \\\\\n",
       "\t9 & S13004 & 779373 & 2390 \\\\\n",
       "\t10 & S13005 & 629876 & 2004 \\\\\n",
       "\t$\\dots$ & $\\dots$ & $\\dots$ & $\\dots$ \\\\\n",
       "\\end{tabular}\n"
      ],
      "text/plain": [
       "52×3 DataFrame\n"
      ]
     },
     "execution_count": 107,
     "metadata": {},
     "output_type": "execute_result"
    }
   ],
   "source": [
    "@linq df_receipt |>\n",
    "  groupby(:store_cd) |>\n",
    "  transform(sum_amount=sum(:amount), sum_quantity=sum(:quantity)) |>\n",
    "  unique(:store_cd) |>\n",
    "  orderby(:store_cd) |>\n",
    "  select(:store_cd, :sum_amount, :sum_quantity)"
   ]
  },
  {
   "cell_type": "markdown",
   "metadata": {},
   "source": [
    "---\n",
    "> P-024: レシート明細データフレーム（df_receipt）に対し、顧客ID（customer_id）ごとに最も新しい売上日（sales_ymd）を求め、10件表示せよ。"
   ]
  },
  {
   "cell_type": "code",
   "execution_count": 120,
   "metadata": {},
   "outputs": [
    {
     "data": {
      "text/html": [
       "<table class=\"data-frame\"><thead><tr><th></th><th>customer_id</th><th>sales_ymd_last</th></tr><tr><th></th><th>String</th><th>Int64</th></tr></thead><tbody><p>10 rows × 2 columns</p><tr><th>1</th><td>CS001113000004</td><td>20190308</td></tr><tr><th>2</th><td>CS001114000005</td><td>20190731</td></tr><tr><th>3</th><td>CS001115000010</td><td>20190405</td></tr><tr><th>4</th><td>CS001205000004</td><td>20190625</td></tr><tr><th>5</th><td>CS001205000006</td><td>20190224</td></tr><tr><th>6</th><td>CS001211000025</td><td>20190322</td></tr><tr><th>7</th><td>CS001212000027</td><td>20170127</td></tr><tr><th>8</th><td>CS001212000031</td><td>20180906</td></tr><tr><th>9</th><td>CS001212000046</td><td>20170811</td></tr><tr><th>10</th><td>CS001212000070</td><td>20191018</td></tr></tbody></table>"
      ],
      "text/latex": [
       "\\begin{tabular}{r|cc}\n",
       "\t& customer\\_id & sales\\_ymd\\_last\\\\\n",
       "\t\\hline\n",
       "\t& String & Int64\\\\\n",
       "\t\\hline\n",
       "\t1 & CS001113000004 & 20190308 \\\\\n",
       "\t2 & CS001114000005 & 20190731 \\\\\n",
       "\t3 & CS001115000010 & 20190405 \\\\\n",
       "\t4 & CS001205000004 & 20190625 \\\\\n",
       "\t5 & CS001205000006 & 20190224 \\\\\n",
       "\t6 & CS001211000025 & 20190322 \\\\\n",
       "\t7 & CS001212000027 & 20170127 \\\\\n",
       "\t8 & CS001212000031 & 20180906 \\\\\n",
       "\t9 & CS001212000046 & 20170811 \\\\\n",
       "\t10 & CS001212000070 & 20191018 \\\\\n",
       "\\end{tabular}\n"
      ],
      "text/plain": [
       "10×2 DataFrame\n"
      ]
     },
     "execution_count": 120,
     "metadata": {},
     "output_type": "execute_result"
    }
   ],
   "source": [
    "@linq df_receipt |>\n",
    "  select(:customer_id, :sales_ymd) |>\n",
    "  orderby(:customer_id, :sales_ymd) |>\n",
    "  groupby(:customer_id) |>\n",
    "  combine(:sales_ymd => last) |>\n",
    "  first(10)"
   ]
  },
  {
   "cell_type": "markdown",
   "metadata": {},
   "source": [
    "---\n",
    "> P-025: レシート明細データフレーム（df_receipt）に対し、顧客ID（customer_id）ごとに最も古い売上日（sales_ymd）を求め、10件表示せよ。"
   ]
  },
  {
   "cell_type": "code",
   "execution_count": 123,
   "metadata": {},
   "outputs": [
    {
     "data": {
      "text/html": [
       "<table class=\"data-frame\"><thead><tr><th></th><th>customer_id</th><th>sales_ymd_first</th></tr><tr><th></th><th>String</th><th>Int64</th></tr></thead><tbody><p>10 rows × 2 columns</p><tr><th>1</th><td>CS001113000004</td><td>20190308</td></tr><tr><th>2</th><td>CS001114000005</td><td>20180503</td></tr><tr><th>3</th><td>CS001115000010</td><td>20171228</td></tr><tr><th>4</th><td>CS001205000004</td><td>20170914</td></tr><tr><th>5</th><td>CS001205000006</td><td>20180207</td></tr><tr><th>6</th><td>CS001211000025</td><td>20190322</td></tr><tr><th>7</th><td>CS001212000027</td><td>20170127</td></tr><tr><th>8</th><td>CS001212000031</td><td>20180906</td></tr><tr><th>9</th><td>CS001212000046</td><td>20170811</td></tr><tr><th>10</th><td>CS001212000070</td><td>20191018</td></tr></tbody></table>"
      ],
      "text/latex": [
       "\\begin{tabular}{r|cc}\n",
       "\t& customer\\_id & sales\\_ymd\\_first\\\\\n",
       "\t\\hline\n",
       "\t& String & Int64\\\\\n",
       "\t\\hline\n",
       "\t1 & CS001113000004 & 20190308 \\\\\n",
       "\t2 & CS001114000005 & 20180503 \\\\\n",
       "\t3 & CS001115000010 & 20171228 \\\\\n",
       "\t4 & CS001205000004 & 20170914 \\\\\n",
       "\t5 & CS001205000006 & 20180207 \\\\\n",
       "\t6 & CS001211000025 & 20190322 \\\\\n",
       "\t7 & CS001212000027 & 20170127 \\\\\n",
       "\t8 & CS001212000031 & 20180906 \\\\\n",
       "\t9 & CS001212000046 & 20170811 \\\\\n",
       "\t10 & CS001212000070 & 20191018 \\\\\n",
       "\\end{tabular}\n"
      ],
      "text/plain": [
       "10×2 DataFrame\n"
      ]
     },
     "execution_count": 123,
     "metadata": {},
     "output_type": "execute_result"
    }
   ],
   "source": [
    "@linq df_receipt |>\n",
    "  select(:customer_id, :sales_ymd) |>\n",
    "  orderby(:customer_id, :sales_ymd) |>\n",
    "  groupby(:customer_id) |>\n",
    "  combine(:sales_ymd => first) |>\n",
    "  first(10)"
   ]
  },
  {
   "cell_type": "markdown",
   "metadata": {},
   "source": [
    "---\n",
    "> P-026: レシート明細データフレーム（df_receipt）に対し、顧客ID（customer_id）ごとに最も新しい売上日（sales_ymd）と古い売上日を求め、両者が異なるデータを10件表示せよ。"
   ]
  },
  {
   "cell_type": "code",
   "execution_count": null,
   "metadata": {},
   "outputs": [],
   "source": []
  },
  {
   "cell_type": "markdown",
   "metadata": {},
   "source": [
    "---\n",
    "> P-027: レシート明細データフレーム（df_receipt）に対し、店舗コード（store_cd）ごとに売上金額（amount）の平均を計算し、降順でTOP5を表示せよ。"
   ]
  },
  {
   "cell_type": "code",
   "execution_count": null,
   "metadata": {},
   "outputs": [],
   "source": []
  },
  {
   "cell_type": "markdown",
   "metadata": {},
   "source": [
    "---\n",
    "> P-028: レシート明細データフレーム（df_receipt）に対し、店舗コード（store_cd）ごとに売上金額（amount）の中央値を計算し、降順でTOP5を表示せよ。"
   ]
  },
  {
   "cell_type": "code",
   "execution_count": null,
   "metadata": {},
   "outputs": [],
   "source": []
  },
  {
   "cell_type": "markdown",
   "metadata": {},
   "source": [
    "---\n",
    "> P-029: レシート明細データフレーム（df_receipt）に対し、店舗コード（store_cd）ごとに商品コード（product_cd）の最頻値を求めよ。"
   ]
  },
  {
   "cell_type": "code",
   "execution_count": null,
   "metadata": {},
   "outputs": [],
   "source": []
  },
  {
   "cell_type": "markdown",
   "metadata": {},
   "source": [
    "---\n",
    "> P-030: レシート明細データフレーム（df_receipt）に対し、店舗コード（store_cd）ごとに売上金額（amount）の標本分散を計算し、降順でTOP5を表示せよ。"
   ]
  },
  {
   "cell_type": "code",
   "execution_count": null,
   "metadata": {},
   "outputs": [],
   "source": []
  },
  {
   "cell_type": "markdown",
   "metadata": {},
   "source": [
    "---\n",
    "> P-031: レシート明細データフレーム（df_receipt）に対し、店舗コード（store_cd）ごとに売上金額（amount）の標本標準偏差を計算し、降順でTOP5を表示せよ。"
   ]
  },
  {
   "cell_type": "code",
   "execution_count": null,
   "metadata": {},
   "outputs": [],
   "source": []
  },
  {
   "cell_type": "markdown",
   "metadata": {},
   "source": [
    "---\n",
    "> P-032: レシート明細データフレーム（df_receipt）の売上金額（amount）について、25％刻みでパーセンタイル値を求めよ。"
   ]
  },
  {
   "cell_type": "code",
   "execution_count": null,
   "metadata": {},
   "outputs": [],
   "source": []
  },
  {
   "cell_type": "markdown",
   "metadata": {},
   "source": [
    "---\n",
    "> P-033: レシート明細データフレーム（df_receipt）に対し、店舗コード（store_cd）ごとに売上金額（amount）の平均を計算し、330以上のものを抽出せよ。"
   ]
  },
  {
   "cell_type": "code",
   "execution_count": null,
   "metadata": {},
   "outputs": [],
   "source": []
  },
  {
   "cell_type": "markdown",
   "metadata": {},
   "source": [
    "---\n",
    "> P-034: レシート明細データフレーム（df_receipt）に対し、顧客ID（customer_id）ごとに売上金額（amount）を合計して全顧客の平均を求めよ。ただし、顧客IDが\"Z\"から始まるのものは非会員を表すため、除外して計算すること。\n"
   ]
  },
  {
   "cell_type": "code",
   "execution_count": null,
   "metadata": {},
   "outputs": [],
   "source": []
  },
  {
   "cell_type": "markdown",
   "metadata": {},
   "source": [
    "---\n",
    "> P-035: レシート明細データフレーム（df_receipt）に対し、顧客ID（customer_id）ごとに売上金額（amount）を合計して全顧客の平均を求め、平均以上に買い物をしている顧客を抽出せよ。ただし、顧客IDが\"Z\"から始まるのものは非会員を表すため、除外して計算すること。なお、データは10件だけ表示させれば良い。"
   ]
  },
  {
   "cell_type": "code",
   "execution_count": null,
   "metadata": {},
   "outputs": [],
   "source": []
  },
  {
   "cell_type": "markdown",
   "metadata": {},
   "source": [
    "---\n",
    "> P-036: レシート明細データフレーム（df_receipt）と店舗データフレーム（df_store）を内部結合し、レシート明細データフレームの全項目と店舗データフレームの店舗名（store_name）を10件表示させよ。"
   ]
  },
  {
   "cell_type": "code",
   "execution_count": null,
   "metadata": {},
   "outputs": [],
   "source": []
  },
  {
   "cell_type": "markdown",
   "metadata": {},
   "source": [
    "---\n",
    "> P-037: 商品データフレーム（df_product）とカテゴリデータフレーム（df_category）を内部結合し、商品データフレームの全項目とカテゴリデータフレームの小区分名（category_small_name）を10件表示させよ。"
   ]
  },
  {
   "cell_type": "code",
   "execution_count": null,
   "metadata": {},
   "outputs": [],
   "source": []
  },
  {
   "cell_type": "markdown",
   "metadata": {},
   "source": [
    "---\n",
    "> P-038: 顧客データフレーム（df_customer）とレシート明細データフレーム（df_receipt）から、各顧客ごとの売上金額合計を求めよ。ただし、買い物の実績がない顧客については売上金額を0として表示させること。また、顧客は性別コード（gender_cd）が女性（1）であるものを対象とし、非会員（顧客IDが'Z'から始まるもの）は除外すること。なお、結果は10件だけ表示させれば良い。"
   ]
  },
  {
   "cell_type": "code",
   "execution_count": null,
   "metadata": {},
   "outputs": [],
   "source": []
  },
  {
   "cell_type": "markdown",
   "metadata": {},
   "source": [
    "---\n",
    "> P-039: レシート明細データフレーム（df_receipt）から売上日数の多い顧客の上位20件と、売上金額合計の多い顧客の上位20件を抽出し、完全外部結合せよ。ただし、非会員（顧客IDが'Z'から始まるもの）は除外すること。"
   ]
  },
  {
   "cell_type": "code",
   "execution_count": null,
   "metadata": {},
   "outputs": [],
   "source": []
  },
  {
   "cell_type": "markdown",
   "metadata": {},
   "source": [
    "---\n",
    "> P-040: 全ての店舗と全ての商品を組み合わせると何件のデータとなるか調査したい。店舗（df_store）と商品（df_product）を直積した件数を計算せよ。"
   ]
  },
  {
   "cell_type": "code",
   "execution_count": null,
   "metadata": {},
   "outputs": [],
   "source": []
  },
  {
   "cell_type": "markdown",
   "metadata": {},
   "source": [
    "---\n",
    "> P-041: レシート明細データフレーム（df_receipt）の売上金額（amount）を日付（sales_ymd）ごとに集計し、前日からの売上金額増減を計算せよ。なお、計算結果は10件表示すればよい。"
   ]
  },
  {
   "cell_type": "code",
   "execution_count": null,
   "metadata": {},
   "outputs": [],
   "source": []
  },
  {
   "cell_type": "markdown",
   "metadata": {},
   "source": [
    "---\n",
    "> P-042: レシート明細データフレーム（df_receipt）の売上金額（amount）を日付（sales_ymd）ごとに集計し、各日付のデータに対し、１日前、２日前、３日前のデータを結合せよ。結果は10件表示すればよい。"
   ]
  },
  {
   "cell_type": "code",
   "execution_count": null,
   "metadata": {},
   "outputs": [],
   "source": []
  },
  {
   "cell_type": "markdown",
   "metadata": {},
   "source": [
    "---\n",
    "> P-043： レシート明細データフレーム（df_receipt）と顧客データフレーム（df_customer）を結合し、性別（gender）と年代（ageから計算）ごとに売上金額（amount）を合計した売上サマリデータフレーム（df_sales_summary）を作成せよ。性別は0が男性、1が女性、9が不明を表すものとする。\n",
    ">\n",
    "> ただし、項目構成は年代、女性の売上金額、男性の売上金額、性別不明の売上金額の4項目とすること（縦に年代、横に性別のクロス集計）。また、年代は10歳ごとの階級とすること。"
   ]
  },
  {
   "cell_type": "code",
   "execution_count": null,
   "metadata": {},
   "outputs": [],
   "source": []
  },
  {
   "cell_type": "markdown",
   "metadata": {},
   "source": [
    "---\n",
    "> P-044： 前設問で作成した売上サマリデータフレーム（df_sales_summary）は性別の売上を横持ちさせたものであった。このデータフレームから性別を縦持ちさせ、年代、性別コード、売上金額の3項目に変換せよ。ただし、性別コードは男性を'00'、女性を'01'、不明を'99'とする。"
   ]
  },
  {
   "cell_type": "code",
   "execution_count": null,
   "metadata": {},
   "outputs": [],
   "source": []
  },
  {
   "cell_type": "markdown",
   "metadata": {},
   "source": [
    "---\n",
    "> P-045: 顧客データフレーム（df_customer）の生年月日（birth_day）は日付型（Date）でデータを保有している。これをYYYYMMDD形式の文字列に変換し、顧客ID（customer_id）とともに抽出せよ。データは10件を抽出すれば良い。"
   ]
  },
  {
   "cell_type": "code",
   "execution_count": null,
   "metadata": {},
   "outputs": [],
   "source": []
  },
  {
   "cell_type": "markdown",
   "metadata": {},
   "source": [
    "---\n",
    "> P-046: 顧客データフレーム（df_customer）の申し込み日（application_date）はYYYYMMDD形式の文字列型でデータを保有している。これを日付型（dateやdatetime）に変換し、顧客ID（customer_id）とともに抽出せよ。データは10件を抽出すれば良い。"
   ]
  },
  {
   "cell_type": "code",
   "execution_count": null,
   "metadata": {},
   "outputs": [],
   "source": []
  },
  {
   "cell_type": "markdown",
   "metadata": {},
   "source": [
    "---\n",
    "> P-047: レシート明細データフレーム（df_receipt）の売上日（sales_ymd）はYYYYMMDD形式の数値型でデータを保有している。これを日付型（dateやdatetime）に変換し、レシート番号(receipt_no)、レシートサブ番号（receipt_sub_no）とともに抽出せよ。データは10件を抽出すれば良い。"
   ]
  },
  {
   "cell_type": "code",
   "execution_count": null,
   "metadata": {},
   "outputs": [],
   "source": []
  },
  {
   "cell_type": "markdown",
   "metadata": {},
   "source": [
    "---\n",
    "> P-048: レシート明細データフレーム（df_receipt）の売上エポック秒（sales_epoch）は数値型のUNIX秒でデータを保有している。これを日付型（dateやdatetime）に変換し、レシート番号(receipt_no)、レシートサブ番号（receipt_sub_no）とともに抽出せよ。データは10件を抽出すれば良い。"
   ]
  },
  {
   "cell_type": "code",
   "execution_count": null,
   "metadata": {},
   "outputs": [],
   "source": []
  },
  {
   "cell_type": "markdown",
   "metadata": {},
   "source": [
    "---\n",
    "> P-049: レシート明細データフレーム（df_receipt）の売上エポック秒（sales_epoch）を日付型（timestamp型）に変換し、\"年\"だけ取り出してレシート番号(receipt_no)、レシートサブ番号（receipt_sub_no）とともに抽出せよ。データは10件を抽出すれば良い。"
   ]
  },
  {
   "cell_type": "code",
   "execution_count": null,
   "metadata": {},
   "outputs": [],
   "source": []
  },
  {
   "cell_type": "markdown",
   "metadata": {},
   "source": [
    "---\n",
    "> P-050: レシート明細データフレーム（df_receipt）の売上エポック秒（sales_epoch）を日付型（timestamp型）に変換し、\"月\"だけ取り出してレシート番号(receipt_no)、レシートサブ番号（receipt_sub_no）とともに抽出せよ。なお、\"月\"は0埋め2桁で取り出すこと。データは10件を抽出すれば良い。"
   ]
  },
  {
   "cell_type": "code",
   "execution_count": null,
   "metadata": {},
   "outputs": [],
   "source": []
  },
  {
   "cell_type": "markdown",
   "metadata": {},
   "source": [
    "---\n",
    "> P-051: レシート明細データフレーム（df_receipt）の売上エポック秒（sales_epoch）を日付型（timestamp型）に変換し、\"日\"だけ取り出してレシート番号(receipt_no)、レシートサブ番号（receipt_sub_no）とともに抽出せよ。なお、\"日\"は0埋め2桁で取り出すこと。データは10件を抽出すれば良い。"
   ]
  },
  {
   "cell_type": "code",
   "execution_count": null,
   "metadata": {},
   "outputs": [],
   "source": []
  },
  {
   "cell_type": "markdown",
   "metadata": {},
   "source": [
    "---\n",
    "> P-052: レシート明細データフレーム（df_receipt）の売上金額（amount）を顧客ID（customer_id）ごとに合計の上、売上金額合計に対して2000円以下を0、2000円超を1に2値化し、顧客ID、売上金額合計とともに10件表示せよ。ただし、顧客IDが\"Z\"から始まるのものは非会員を表すため、除外して計算すること。"
   ]
  },
  {
   "cell_type": "code",
   "execution_count": null,
   "metadata": {},
   "outputs": [],
   "source": []
  },
  {
   "cell_type": "markdown",
   "metadata": {},
   "source": [
    "---\n",
    "> P-053: 顧客データフレーム（df_customer）の郵便番号（postal_cd）に対し、東京（先頭3桁が100〜209のもの）を1、それ以外のものを0に２値化せよ。さらにレシート明細データフレーム（df_receipt）と結合し、全期間において買い物実績のある顧客数を、作成した2値ごとにカウントせよ。"
   ]
  },
  {
   "cell_type": "code",
   "execution_count": null,
   "metadata": {},
   "outputs": [],
   "source": []
  },
  {
   "cell_type": "markdown",
   "metadata": {},
   "source": [
    "---\n",
    "> P-054: 顧客データデータフレーム（df_customer）の住所（address）は、埼玉県、千葉県、東京都、神奈川県のいずれかとなっている。都道府県毎にコード値を作成し、顧客ID、住所とともに抽出せよ。値は埼玉県を11、千葉県を12、東京都を13、神奈川県を14とすること。結果は10件表示させれば良い。"
   ]
  },
  {
   "cell_type": "code",
   "execution_count": null,
   "metadata": {},
   "outputs": [],
   "source": []
  },
  {
   "cell_type": "markdown",
   "metadata": {},
   "source": [
    "---\n",
    "> P-055: レシート明細データフレーム（df_receipt）の売上金額（amount）を顧客ID（customer_id）ごとに合計し、その合計金額の四分位点を求めよ。その上で、顧客ごとの売上金額合計に対して以下の基準でカテゴリ値を作成し、顧客ID、売上金額と合計ともに表示せよ。カテゴリ値は上から順に1〜4とする。結果は10件表示させれば良い。\n",
    ">\n",
    "> - 最小値以上第一四分位未満\n",
    "> - 第一四分位以上第二四分位未満\n",
    "> - 第二四分位以上第三四分位未満\n",
    "> - 第三四分位以上"
   ]
  },
  {
   "cell_type": "code",
   "execution_count": null,
   "metadata": {},
   "outputs": [],
   "source": []
  },
  {
   "cell_type": "markdown",
   "metadata": {},
   "source": [
    "---\n",
    "> P-056: 顧客データフレーム（df_customer）の年齢（age）をもとに10歳刻みで年代を算出し、顧客ID（customer_id）、生年月日（birth_day）とともに抽出せよ。ただし、60歳以上は全て60歳代とすること。年代を表すカテゴリ名は任意とする。先頭10件を表示させればよい。"
   ]
  },
  {
   "cell_type": "code",
   "execution_count": null,
   "metadata": {},
   "outputs": [],
   "source": []
  },
  {
   "cell_type": "markdown",
   "metadata": {},
   "source": [
    "---\n",
    "> P-057: 前問題の抽出結果と性別（gender）を組み合わせ、新たに性別×年代の組み合わせを表すカテゴリデータを作成せよ。組み合わせを表すカテゴリの値は任意とする。先頭10件を表示させればよい。"
   ]
  },
  {
   "cell_type": "code",
   "execution_count": null,
   "metadata": {},
   "outputs": [],
   "source": []
  },
  {
   "cell_type": "markdown",
   "metadata": {},
   "source": [
    "---\n",
    "> P-058: 顧客データフレーム（df_customer）の性別コード（gender_cd）をダミー変数化し、顧客ID（customer_id）とともに抽出せよ。結果は10件表示させれば良い。"
   ]
  },
  {
   "cell_type": "code",
   "execution_count": null,
   "metadata": {},
   "outputs": [],
   "source": []
  },
  {
   "cell_type": "markdown",
   "metadata": {},
   "source": [
    "---\n",
    "> P-059: レシート明細データフレーム（df_receipt）の売上金額（amount）を顧客ID（customer_id）ごとに合計し、合計した売上金額を平均0、標準偏差1に標準化して顧客ID、売上金額合計とともに表示せよ。標準化に使用する標準偏差は、不偏標準偏差と標本標準偏差のどちらでも良いものとする。ただし、顧客IDが\"Z\"から始まるのものは非会員を表すため、除外して計算すること。結果は10件表示させれば良い。"
   ]
  },
  {
   "cell_type": "code",
   "execution_count": null,
   "metadata": {},
   "outputs": [],
   "source": []
  },
  {
   "cell_type": "markdown",
   "metadata": {},
   "source": [
    "---\n",
    "> P-060: レシート明細データフレーム（df_receipt）の売上金額（amount）を顧客ID（customer_id）ごとに合計し、合計した売上金額を最小値0、最大値1に正規化して顧客ID、売上金額合計とともに表示せよ。ただし、顧客IDが\"Z\"から始まるのものは非会員を表すため、除外して計算すること。結果は10件表示させれば良い。"
   ]
  },
  {
   "cell_type": "code",
   "execution_count": null,
   "metadata": {},
   "outputs": [],
   "source": []
  },
  {
   "cell_type": "markdown",
   "metadata": {},
   "source": [
    "---\n",
    "> P-061: レシート明細データフレーム（df_receipt）の売上金額（amount）を顧客ID（customer_id）ごとに合計し、合計した売上金額を常用対数化（底=10）して顧客ID、売上金額合計とともに表示せよ。ただし、顧客IDが\"Z\"から始まるのものは非会員を表すため、除外して計算すること。結果は10件表示させれば良い。"
   ]
  },
  {
   "cell_type": "code",
   "execution_count": null,
   "metadata": {},
   "outputs": [],
   "source": []
  },
  {
   "cell_type": "markdown",
   "metadata": {},
   "source": [
    "---\n",
    "> P-062: レシート明細データフレーム（df_receipt）の売上金額（amount）を顧客ID（customer_id）ごとに合計し、合計した売上金額を自然対数化(底=e）して顧客ID、売上金額合計とともに表示せよ。ただし、顧客IDが\"Z\"から始まるのものは非会員を表すため、除外して計算すること。結果は10件表示させれば良い。"
   ]
  },
  {
   "cell_type": "code",
   "execution_count": null,
   "metadata": {},
   "outputs": [],
   "source": []
  },
  {
   "cell_type": "markdown",
   "metadata": {},
   "source": [
    "---\n",
    "> P-063: 商品データフレーム（df_product）の単価（unit_price）と原価（unit_cost）から、各商品の利益額を算出せよ。結果は10件表示させれば良い。"
   ]
  },
  {
   "cell_type": "code",
   "execution_count": null,
   "metadata": {},
   "outputs": [],
   "source": []
  },
  {
   "cell_type": "markdown",
   "metadata": {},
   "source": [
    "---\n",
    "> P-064: 商品データフレーム（df_product）の単価（unit_price）と原価（unit_cost）から、各商品の利益率の全体平均を算出せよ。\n",
    "ただし、単価と原価にはNULLが存在することに注意せよ。"
   ]
  },
  {
   "cell_type": "code",
   "execution_count": null,
   "metadata": {},
   "outputs": [],
   "source": []
  },
  {
   "cell_type": "markdown",
   "metadata": {},
   "source": [
    "---\n",
    "> P-065: 商品データフレーム（df_product）の各商品について、利益率が30%となる新たな単価を求めよ。ただし、1円未満は切り捨てること。そして結果を10件表示させ、利益率がおよそ30％付近であることを確認せよ。ただし、単価（unit_price）と原価（unit_cost）にはNULLが存在することに注意せよ。"
   ]
  },
  {
   "cell_type": "code",
   "execution_count": null,
   "metadata": {},
   "outputs": [],
   "source": []
  },
  {
   "cell_type": "markdown",
   "metadata": {},
   "source": [
    "---\n",
    "> P-066: 商品データフレーム（df_product）の各商品について、利益率が30%となる新たな単価を求めよ。今回は、1円未満を四捨五入すること（0.5については偶数方向の丸めで良い）。そして結果を10件表示させ、利益率がおよそ30％付近であることを確認せよ。ただし、単価（unit_price）と原価（unit_cost）にはNULLが存在することに注意せよ。"
   ]
  },
  {
   "cell_type": "code",
   "execution_count": null,
   "metadata": {},
   "outputs": [],
   "source": []
  },
  {
   "cell_type": "markdown",
   "metadata": {},
   "source": [
    "---\n",
    "> P-067: 商品データフレーム（df_product）の各商品について、利益率が30%となる新たな単価を求めよ。今回は、1円未満を切り上げること。そして結果を10件表示させ、利益率がおよそ30％付近であることを確認せよ。ただし、単価（unit_price）と原価（unit_cost）にはNULLが存在することに注意せよ。"
   ]
  },
  {
   "cell_type": "code",
   "execution_count": null,
   "metadata": {},
   "outputs": [],
   "source": []
  },
  {
   "cell_type": "markdown",
   "metadata": {},
   "source": [
    "---\n",
    "> P-068: 商品データフレーム（df_product）の各商品について、消費税率10%の税込み金額を求めよ。 1円未満の端数は切り捨てとし、結果は10件表示すれば良い。ただし、単価（unit_price）にはNULLが存在することに注意せよ。"
   ]
  },
  {
   "cell_type": "code",
   "execution_count": null,
   "metadata": {},
   "outputs": [],
   "source": []
  },
  {
   "cell_type": "markdown",
   "metadata": {},
   "source": [
    "---\n",
    "> P-069: レシート明細データフレーム（df_receipt）と商品データフレーム（df_product）を結合し、顧客毎に全商品の売上金額合計と、カテゴリ大区分（category_major_cd）が\"07\"（瓶詰缶詰）の売上金額合計を計算の上、両者の比率を求めよ。抽出対象はカテゴリ大区分\"07\"（瓶詰缶詰）の購入実績がある顧客のみとし、結果は10件表示させればよい。"
   ]
  },
  {
   "cell_type": "code",
   "execution_count": null,
   "metadata": {},
   "outputs": [],
   "source": []
  },
  {
   "cell_type": "markdown",
   "metadata": {},
   "source": [
    "---\n",
    "> P-070: レシート明細データフレーム（df_receipt）の売上日（sales_ymd）に対し、顧客データフレーム（df_customer）の会員申込日（application_date）からの経過日数を計算し、顧客ID（customer_id）、売上日、会員申込日とともに表示せよ。結果は10件表示させれば良い（なお、sales_ymdは数値、application_dateは文字列でデータを保持している点に注意）。"
   ]
  },
  {
   "cell_type": "code",
   "execution_count": null,
   "metadata": {},
   "outputs": [],
   "source": []
  },
  {
   "cell_type": "markdown",
   "metadata": {},
   "source": [
    "---\n",
    "> P-071: レシート明細データフレーム（df_receipt）の売上日（sales_ymd）に対し、顧客データフレーム（df_customer）の会員申込日（application_date）からの経過月数を計算し、顧客ID（customer_id）、売上日、会員申込日とともに表示せよ。結果は10件表示させれば良い（なお、sales_ymdは数値、application_dateは文字列でデータを保持している点に注意）。1ヶ月未満は切り捨てること。"
   ]
  },
  {
   "cell_type": "code",
   "execution_count": null,
   "metadata": {},
   "outputs": [],
   "source": []
  },
  {
   "cell_type": "markdown",
   "metadata": {},
   "source": [
    "---\n",
    "> P-072: レシート明細データフレーム（df_receipt）の売上日（sales_ymd）に対し、顧客データフレーム（df_customer）の会員申込日（application_date）からの経過年数を計算し、顧客ID（customer_id）、売上日、会員申込日とともに表示せよ。結果は10件表示させれば良い。（なお、sales_ymdは数値、application_dateは文字列でデータを保持している点に注意）。1年未満は切り捨てること。"
   ]
  },
  {
   "cell_type": "code",
   "execution_count": null,
   "metadata": {},
   "outputs": [],
   "source": []
  },
  {
   "cell_type": "markdown",
   "metadata": {},
   "source": [
    "---\n",
    "> P-073: レシート明細データフレーム（df_receipt）の売上日（sales_ymd）に対し、顧客データフレーム（df_customer）の会員申込日（application_date）からのエポック秒による経過時間を計算し、顧客ID（customer_id）、売上日、会員申込日とともに表示せよ。結果は10件表示させれば良い（なお、sales_ymdは数値、application_dateは文字列でデータを保持している点に注意）。なお、時間情報は保有していないため各日付は0時0分0秒を表すものとする。"
   ]
  },
  {
   "cell_type": "code",
   "execution_count": null,
   "metadata": {},
   "outputs": [],
   "source": []
  },
  {
   "cell_type": "markdown",
   "metadata": {},
   "source": [
    "---\n",
    "> P-074: レシート明細データフレーム（df_receipt）の売上日（sales_ymd）に対し、当該週の月曜日からの経過日数を計算し、売上日、当該週の月曜日付とともに表示せよ。結果は10件表示させれば良い（なお、sales_ymdは数値でデータを保持している点に注意）。"
   ]
  },
  {
   "cell_type": "code",
   "execution_count": null,
   "metadata": {},
   "outputs": [],
   "source": []
  },
  {
   "cell_type": "markdown",
   "metadata": {},
   "source": [
    "---\n",
    "> P-075: 顧客データフレーム（df_customer）からランダムに1%のデータを抽出し、先頭から10件データを抽出せよ。"
   ]
  },
  {
   "cell_type": "code",
   "execution_count": null,
   "metadata": {},
   "outputs": [],
   "source": []
  },
  {
   "cell_type": "markdown",
   "metadata": {},
   "source": [
    "---\n",
    "> P-076: 顧客データフレーム（df_customer）から性別（gender_cd）の割合に基づきランダムに10%のデータを層化抽出データし、性別ごとに件数を集計せよ。"
   ]
  },
  {
   "cell_type": "code",
   "execution_count": null,
   "metadata": {},
   "outputs": [],
   "source": []
  },
  {
   "cell_type": "markdown",
   "metadata": {},
   "source": [
    "---\n",
    "> P-077: レシート明細データフレーム（df_receipt）の売上金額（amount）を顧客単位に合計し、合計した売上金額の外れ値を抽出せよ。ただし、顧客IDが\"Z\"から始まるのものは非会員を表すため、除外して計算すること。なお、ここでは外れ値を平均から3σ以上離れたものとする。結果は10件表示させれば良い。"
   ]
  },
  {
   "cell_type": "code",
   "execution_count": null,
   "metadata": {},
   "outputs": [],
   "source": []
  },
  {
   "cell_type": "markdown",
   "metadata": {},
   "source": [
    "---\n",
    "> P-078: レシート明細データフレーム（df_receipt）の売上金額（amount）を顧客単位に合計し、合計した売上金額の外れ値を抽出せよ。ただし、顧客IDが\"Z\"から始まるのものは非会員を表すため、除外して計算すること。なお、ここでは外れ値を第一四分位と第三四分位の差であるIQRを用いて、「第一四分位数-1.5×IQR」よりも下回るもの、または「第三四分位数+1.5×IQR」を超えるものとする。結果は10件表示させれば良い。"
   ]
  },
  {
   "cell_type": "code",
   "execution_count": null,
   "metadata": {},
   "outputs": [],
   "source": []
  },
  {
   "cell_type": "markdown",
   "metadata": {},
   "source": [
    "---\n",
    "> P-079: 商品データフレーム（df_product）の各項目に対し、欠損数を確認せよ。"
   ]
  },
  {
   "cell_type": "code",
   "execution_count": null,
   "metadata": {},
   "outputs": [],
   "source": []
  },
  {
   "cell_type": "markdown",
   "metadata": {},
   "source": [
    "---\n",
    "> P-080: 商品データフレーム（df_product）のいずれかの項目に欠損が発生しているレコードを全て削除した新たなdf_product_1を作成せよ。なお、削除前後の件数を表示させ、前設問で確認した件数だけ減少していることも確認すること。"
   ]
  },
  {
   "cell_type": "code",
   "execution_count": null,
   "metadata": {},
   "outputs": [],
   "source": []
  },
  {
   "cell_type": "markdown",
   "metadata": {},
   "source": [
    "---\n",
    "> P-081: 単価（unit_price）と原価（unit_cost）の欠損値について、それぞれの平均値で補完した新たなdf_product_2を作成せよ。なお、平均値について1円未満は四捨五入とし、0.5については偶数寄せでかまわない。補完実施後、各項目について欠損が生じていないことも確認すること。"
   ]
  },
  {
   "cell_type": "code",
   "execution_count": null,
   "metadata": {},
   "outputs": [],
   "source": []
  },
  {
   "cell_type": "markdown",
   "metadata": {},
   "source": [
    "---\n",
    "> P-082: 単価（unit_price）と原価（unit_cost）の欠損値について、それぞれの中央値で補完した新たなdf_product_3を作成せよ。なお、中央値について1円未満は四捨五入とし、0.5については偶数寄せでかまわない。補完実施後、各項目について欠損が生じていないことも確認すること。"
   ]
  },
  {
   "cell_type": "code",
   "execution_count": null,
   "metadata": {},
   "outputs": [],
   "source": []
  },
  {
   "cell_type": "markdown",
   "metadata": {},
   "source": [
    "---\n",
    "> P-083: 単価（unit_price）と原価（unit_cost）の欠損値について、各商品の小区分（category_small_cd）ごとに算出した中央値で補完した新たなdf_product_4を作成せよ。なお、中央値について1円未満は四捨五入とし、0.5については偶数寄せでかまわない。補完実施後、各項目について欠損が生じていないことも確認すること。"
   ]
  },
  {
   "cell_type": "code",
   "execution_count": null,
   "metadata": {},
   "outputs": [],
   "source": []
  },
  {
   "cell_type": "markdown",
   "metadata": {},
   "source": [
    "---\n",
    "> P-084: 顧客データフレーム（df_customer）の全顧客に対し、全期間の売上金額に占める2019年売上金額の割合を計算せよ。ただし、販売実績のない場合は0として扱うこと。そして計算した割合が0超のものを抽出せよ。 結果は10件表示させれば良い。また、作成したデータにNAやNANが存在しないことを確認せよ。"
   ]
  },
  {
   "cell_type": "code",
   "execution_count": null,
   "metadata": {},
   "outputs": [],
   "source": []
  },
  {
   "cell_type": "markdown",
   "metadata": {},
   "source": [
    "---\n",
    "> P-085: 顧客データフレーム（df_customer）の全顧客に対し、郵便番号（postal_cd）を用いて経度緯度変換用データフレーム（df_geocode）を紐付け、新たなdf_customer_1を作成せよ。ただし、複数紐づく場合は経度（longitude）、緯度（latitude）それぞれ平均を算出すること。\n"
   ]
  },
  {
   "cell_type": "code",
   "execution_count": null,
   "metadata": {},
   "outputs": [],
   "source": []
  },
  {
   "cell_type": "markdown",
   "metadata": {},
   "source": [
    "---\n",
    "> P-086: 前設問で作成した緯度経度つき顧客データフレーム（df_customer_1）に対し、申込み店舗コード（application_store_cd）をキーに店舗データフレーム（df_store）と結合せよ。そして申込み店舗の緯度（latitude）・経度情報（longitude)と顧客の緯度・経度を用いて距離（km）を求め、顧客ID（customer_id）、顧客住所（address）、店舗住所（address）とともに表示せよ。計算式は簡易式で良いものとするが、その他精度の高い方式を利用したライブラリを利用してもかまわない。結果は10件表示すれば良い。"
   ]
  },
  {
   "cell_type": "markdown",
   "metadata": {},
   "source": [
    "$$\n",
    "緯度（ラジアン）：\\phi \\\\\n",
    "経度（ラジアン）：\\lambda \\\\\n",
    "距離L = 6371 * arccos(sin \\phi_1 * sin \\phi_2\n",
    "+ cos \\phi_1 * cos \\phi_2 * cos(\\lambda_1 − \\lambda_2))\n",
    "$$"
   ]
  },
  {
   "cell_type": "code",
   "execution_count": null,
   "metadata": {},
   "outputs": [],
   "source": []
  },
  {
   "cell_type": "markdown",
   "metadata": {},
   "source": [
    "---\n",
    "> P-087:  顧客データフレーム（df_customer）では、異なる店舗での申込みなどにより同一顧客が複数登録されている。名前（customer_name）と郵便番号（postal_cd）が同じ顧客は同一顧客とみなし、1顧客1レコードとなるように名寄せした名寄顧客データフレーム（df_customer_u）を作成せよ。ただし、同一顧客に対しては売上金額合計が最も高いものを残すものとし、売上金額合計が同一もしくは売上実績の無い顧客については顧客ID（customer_id）の番号が小さいものを残すこととする。"
   ]
  },
  {
   "cell_type": "code",
   "execution_count": null,
   "metadata": {},
   "outputs": [],
   "source": []
  },
  {
   "cell_type": "markdown",
   "metadata": {},
   "source": [
    "---\n",
    "> P-088: 前設問で作成したデータを元に、顧客データフレームに統合名寄IDを付与したデータフレーム（df_customer_n）を作成せよ。ただし、統合名寄IDは以下の仕様で付与するものとする。\n",
    ">\n",
    "> - 重複していない顧客：顧客ID（customer_id）を設定\n",
    "> - 重複している顧客：前設問で抽出したレコードの顧客IDを設定"
   ]
  },
  {
   "cell_type": "code",
   "execution_count": null,
   "metadata": {},
   "outputs": [],
   "source": []
  },
  {
   "cell_type": "markdown",
   "metadata": {},
   "source": [
    "---\n",
    "> P-閑話: df_customer_1, df_customer_nは使わないので削除する。"
   ]
  },
  {
   "cell_type": "code",
   "execution_count": null,
   "metadata": {},
   "outputs": [],
   "source": []
  },
  {
   "cell_type": "markdown",
   "metadata": {},
   "source": [
    "---\n",
    "> P-089: 売上実績のある顧客に対し、予測モデル構築のため学習用データとテスト用データに分割したい。それぞれ8:2の割合でランダムにデータを分割せよ。"
   ]
  },
  {
   "cell_type": "code",
   "execution_count": null,
   "metadata": {},
   "outputs": [],
   "source": []
  },
  {
   "cell_type": "markdown",
   "metadata": {},
   "source": [
    "---\n",
    "> P-090: レシート明細データフレーム（df_receipt）は2017年1月1日〜2019年10月31日までのデータを有している。売上金額（amount）を月次で集計し、学習用に12ヶ月、テスト用に6ヶ月のモデル構築用データを3セット作成せよ。"
   ]
  },
  {
   "cell_type": "code",
   "execution_count": null,
   "metadata": {},
   "outputs": [],
   "source": []
  },
  {
   "cell_type": "markdown",
   "metadata": {},
   "source": [
    "---\n",
    "> P-091: 顧客データフレーム（df_customer）の各顧客に対し、売上実績のある顧客数と売上実績のない顧客数が1:1となるようにアンダーサンプリングで抽出せよ。"
   ]
  },
  {
   "cell_type": "code",
   "execution_count": null,
   "metadata": {},
   "outputs": [],
   "source": []
  },
  {
   "cell_type": "markdown",
   "metadata": {},
   "source": [
    "---\n",
    "> P-092: 顧客データフレーム（df_customer）では、性別に関する情報が非正規化の状態で保持されている。これを第三正規化せよ。"
   ]
  },
  {
   "cell_type": "code",
   "execution_count": null,
   "metadata": {},
   "outputs": [],
   "source": []
  },
  {
   "cell_type": "markdown",
   "metadata": {},
   "source": [
    "---\n",
    "> P-093: 商品データフレーム（df_product）では各カテゴリのコード値だけを保有し、カテゴリ名は保有していない。カテゴリデータフレーム（df_category）と組み合わせて非正規化し、カテゴリ名を保有した新たな商品データフレームを作成せよ。"
   ]
  },
  {
   "cell_type": "code",
   "execution_count": null,
   "metadata": {},
   "outputs": [],
   "source": []
  },
  {
   "cell_type": "markdown",
   "metadata": {},
   "source": [
    "---\n",
    "> P-094: 先に作成したカテゴリ名付き商品データを以下の仕様でファイル出力せよ。なお、出力先のパスはdata配下とする。\n",
    ">\n",
    "> - ファイル形式はCSV（カンマ区切り）\n",
    "> - ヘッダ有り\n",
    "> - 文字コードはUTF-8"
   ]
  },
  {
   "cell_type": "code",
   "execution_count": null,
   "metadata": {},
   "outputs": [],
   "source": []
  },
  {
   "cell_type": "markdown",
   "metadata": {},
   "source": [
    "---\n",
    "> P-095: 先に作成したカテゴリ名付き商品データを以下の仕様でファイル出力せよ。なお、出力先のパスはdata配下とする。\n",
    ">\n",
    "> - ファイル形式はCSV（カンマ区切り）\n",
    "> - ヘッダ有り\n",
    "> - 文字コードはCP932"
   ]
  },
  {
   "cell_type": "code",
   "execution_count": null,
   "metadata": {},
   "outputs": [],
   "source": []
  },
  {
   "cell_type": "markdown",
   "metadata": {},
   "source": [
    "---\n",
    "> P-096: 先に作成したカテゴリ名付き商品データを以下の仕様でファイル出力せよ。なお、出力先のパスはdata配下とする。\n",
    ">\n",
    "> - ファイル形式はCSV（カンマ区切り）\n",
    "> - ヘッダ無し\n",
    "> - 文字コードはUTF-8"
   ]
  },
  {
   "cell_type": "code",
   "execution_count": null,
   "metadata": {},
   "outputs": [],
   "source": []
  },
  {
   "cell_type": "markdown",
   "metadata": {},
   "source": [
    "---\n",
    "> P-097: 先に作成した以下形式のファイルを読み込み、データフレームを作成せよ。また、先頭10件を表示させ、正しくとりまれていることを確認せよ。\n",
    ">\n",
    "> - ファイル形式はCSV（カンマ区切り）\n",
    "> - ヘッダ有り\n",
    "> - 文字コードはUTF-8"
   ]
  },
  {
   "cell_type": "code",
   "execution_count": null,
   "metadata": {},
   "outputs": [],
   "source": []
  },
  {
   "cell_type": "markdown",
   "metadata": {},
   "source": [
    "---\n",
    "> P-098: 先に作成した以下形式のファイルを読み込み、データフレームを作成せよ。また、先頭10件を表示させ、正しくとりまれていることを確認せよ。\n",
    ">\n",
    "> - ファイル形式はCSV（カンマ区切り）\n",
    "> - ヘッダ無し\n",
    "> - 文字コードはUTF-8"
   ]
  },
  {
   "cell_type": "code",
   "execution_count": null,
   "metadata": {},
   "outputs": [],
   "source": []
  },
  {
   "cell_type": "markdown",
   "metadata": {},
   "source": [
    "---\n",
    "> P-099: 先に作成したカテゴリ名付き商品データを以下の仕様でファイル出力せよ。なお、出力先のパスはdata配下とする。\n",
    ">\n",
    "> - ファイル形式はTSV（タブ区切り）\n",
    "> - ヘッダ有り\n",
    "> - 文字コードはUTF-8"
   ]
  },
  {
   "cell_type": "code",
   "execution_count": null,
   "metadata": {},
   "outputs": [],
   "source": []
  },
  {
   "cell_type": "markdown",
   "metadata": {},
   "source": [
    "---\n",
    "> P-100: 先に作成した以下形式のファイルを読み込み、データフレームを作成せよ。また、先頭10件を表示させ、正しくとりまれていることを確認せよ。\n",
    ">\n",
    "> - ファイル形式はTSV（タブ区切り）\n",
    "> - ヘッダ有り\n",
    "> - 文字コードはUTF-8"
   ]
  },
  {
   "cell_type": "code",
   "execution_count": null,
   "metadata": {},
   "outputs": [],
   "source": []
  },
  {
   "cell_type": "markdown",
   "metadata": {},
   "source": [
    "# これで１００本終わりです。おつかれさまでした！"
   ]
  }
 ],
 "metadata": {
  "kernelspec": {
   "display_name": "Julia 1.4.1",
   "language": "julia",
   "name": "julia-1.4"
  },
  "language_info": {
   "file_extension": ".jl",
   "mimetype": "application/julia",
   "name": "julia",
   "version": "1.4.1"
  }
 },
 "nbformat": 4,
 "nbformat_minor": 4
}
